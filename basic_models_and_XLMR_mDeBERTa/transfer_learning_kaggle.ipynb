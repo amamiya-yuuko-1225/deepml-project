{
 "cells": [
  {
   "cell_type": "code",
   "execution_count": 1,
   "metadata": {
    "_cell_guid": "b1076dfc-b9ad-4769-8c92-a6c4dae69d19",
    "_uuid": "8f2839f25d086af736a60e9eeb907d3b93b6e0e5",
    "execution": {
     "iopub.execute_input": "2025-10-19T13:15:30.413849Z",
     "iopub.status.busy": "2025-10-19T13:15:30.413576Z",
     "iopub.status.idle": "2025-10-19T13:15:30.714451Z",
     "shell.execute_reply": "2025-10-19T13:15:30.713620Z",
     "shell.execute_reply.started": "2025-10-19T13:15:30.413828Z"
    },
    "trusted": true
   },
   "outputs": [
    {
     "name": "stdout",
     "output_type": "stream",
     "text": [
      "/kaggle/input/contradictory-my-dear-watson/sample_submission.csv\n",
      "/kaggle/input/contradictory-my-dear-watson/train.csv\n",
      "/kaggle/input/contradictory-my-dear-watson/test.csv\n"
     ]
    }
   ],
   "source": [
    "# This Python 3 environment comes with many helpful analytics libraries installed\n",
    "# It is defined by the kaggle/python Docker image: https://github.com/kaggle/docker-python\n",
    "# For example, here's several helpful packages to load\n",
    "\n",
    "import numpy as np # linear algebra\n",
    "import pandas as pd # data processing, CSV file I/O (e.g. pd.read_csv)\n",
    "\n",
    "# Input data files are available in the read-only \"../input/\" directory\n",
    "# For example, running this (by clicking run or pressing Shift+Enter) will list all files under the input directory\n",
    "\n",
    "import os\n",
    "for dirname, _, filenames in os.walk('/kaggle/input'):\n",
    "    for filename in filenames:\n",
    "        print(os.path.join(dirname, filename))\n",
    "\n",
    "# You can write up to 20GB to the current directory (/kaggle/working/) that gets preserved as output when you create a version using \"Save & Run All\" \n",
    "# You can also write temporary files to /kaggle/temp/, but they won't be saved outside of the current session"
   ]
  },
  {
   "cell_type": "markdown",
   "metadata": {},
   "source": [
    "Part2: bigger dataset pretrain"
   ]
  },
  {
   "cell_type": "code",
   "execution_count": null,
   "metadata": {
    "execution": {
     "iopub.execute_input": "2025-10-19T13:15:32.854578Z",
     "iopub.status.busy": "2025-10-19T13:15:32.853712Z",
     "iopub.status.idle": "2025-10-19T13:16:01.739402Z",
     "shell.execute_reply": "2025-10-19T13:16:01.738648Z",
     "shell.execute_reply.started": "2025-10-19T13:15:32.854545Z"
    },
    "trusted": true
   },
   "outputs": [
    {
     "name": "stderr",
     "output_type": "stream",
     "text": [
      "Tokenizing texts: 100%|██████████| 19392/19392 [00:00<00:00, 46247.42it/s]\n"
     ]
    },
    {
     "name": "stdout",
     "output_type": "stream",
     "text": [
      "Training Word2Vec model on multilingual corpus ...\n",
      "Vocab size: 21956\n",
      "Embedding matrix shape: (21956, 100)\n"
     ]
    }
   ],
   "source": [
    "import torch\n",
    "import torch.nn as nn\n",
    "import torch.optim as optim\n",
    "from torch.utils.data import Dataset, DataLoader\n",
    "from tqdm import tqdm\n",
    "import gensim\n",
    "from gensim.models import Word2Vec\n",
    "import numpy as np\n",
    "import pandas as pd\n",
    "import re, json\n",
    "import matplotlib.pyplot as plt\n",
    "from nltk.tokenize import wordpunct_tokenize\n",
    "import unicodedata\n",
    "import random\n",
    "class NLIProcessor:\n",
    "\n",
    "    def __init__(self, embed_dim=300, min_count=2, max_len=32, seed=42):\n",
    "        self.embed_dim = embed_dim\n",
    "        self.min_count = min_count\n",
    "        self.max_len = max_len\n",
    "        self.word_index = {\"<pad>\": 0, \"<unk>\": 1}\n",
    "        self.embeddings = None\n",
    "        random.seed(seed)\n",
    "        np.random.seed(seed)\n",
    "\n",
    "\n",
    "    def clean_text(self, text):\n",
    "        \"\"\"统一 Unicode、去除多余空白\"\"\"\n",
    "        if not isinstance(text, str):\n",
    "            return \"\"\n",
    "        text = unicodedata.normalize(\"NFKC\", text)\n",
    "        text = re.sub(r\"[\\t\\n\\r]+\", \" \", text)\n",
    "        text = re.sub(r\"\\s+\", \" \", text)\n",
    "        return text.strip()\n",
    "\n",
    "\n",
    "    def tokenize(self, text):\n",
    "\n",
    "        text = self.clean_text(text)\n",
    "        if re.search(r\"[\\u4e00-\\u9fff]\", text):  # 中文\n",
    "            tokens = list(text)  # character-level tokenization\n",
    "        else:\n",
    "            tokens = wordpunct_tokenize(text)  \n",
    "        return [t.lower() for t in tokens if t.strip() != \"\"]\n",
    "\n",
    "\n",
    "    def build_vocab(self, texts):\n",
    "\n",
    "        tokenized = [self.tokenize(t) for t in tqdm(texts, desc=\"Tokenizing texts\")]\n",
    "\n",
    "        print(\"Training Word2Vec model on multilingual corpus ...\")\n",
    "        self.word2vec = Word2Vec(\n",
    "            tokenized,\n",
    "            vector_size=self.embed_dim,\n",
    "            window=5,\n",
    "            min_count=self.min_count,\n",
    "            workers=4,\n",
    "            sg=1  # skip-gram \n",
    "        )\n",
    "\n",
    "        # vocab\n",
    "        for word in self.word2vec.wv.index_to_key:\n",
    "            if word not in self.word_index:\n",
    "                self.word_index[word] = len(self.word_index)\n",
    "\n",
    "        # embedding matrix\n",
    "        vocab_size = len(self.word_index)\n",
    "        self.embeddings = np.zeros((vocab_size, self.embed_dim))\n",
    "        for word, idx in self.word_index.items():\n",
    "            if word in self.word2vec.wv:\n",
    "                self.embeddings[idx] = self.word2vec.wv[word]\n",
    "            else:\n",
    "                self.embeddings[idx] = np.random.normal(scale=0.6, size=(self.embed_dim,))\n",
    "\n",
    "        print(f\"Vocab size: {vocab_size}\")\n",
    "        print(f\"Embedding matrix shape: {self.embeddings.shape}\")\n",
    "\n",
    "\n",
    "    def encode(self, text):\n",
    "\n",
    "        tokens = self.tokenize(text)\n",
    "        ids = [self.word_index.get(tok, 1) for tok in tokens]  # 1 = <unk>\n",
    "\n",
    "        # padding / truncation\n",
    "        if len(ids) < self.max_len:\n",
    "            ids += [0] * (self.max_len - len(ids))\n",
    "        else:\n",
    "            ids = ids[:self.max_len]\n",
    "        return ids\n",
    "\n",
    "class NLIDataset(Dataset):\n",
    "    def __init__(self, df, processor):\n",
    "        self.premises = df[\"premise\"].tolist()\n",
    "        self.hypotheses = df[\"hypothesis\"].tolist()\n",
    "        self.labels = df[\"label\"].tolist()\n",
    "        self.processor = processor\n",
    "\n",
    "    def __len__(self):\n",
    "        return len(self.labels)\n",
    "\n",
    "    def __getitem__(self, idx):\n",
    "        p = self.processor.encode(self.premises[idx])\n",
    "        h = self.processor.encode(self.hypotheses[idx])\n",
    "        y = self.labels[idx]\n",
    "        return torch.tensor(p), torch.tensor(h), torch.tensor(y)\n",
    "\n",
    "df = pd.read_csv(\"/kaggle/input/contradictory-my-dear-watson/train.csv\")  # Kaggle 数据集\n",
    "df[\"label\"] = df[\"label\"].astype(int)\n",
    "train_df = df.sample(frac=0.8, random_state=42)\n",
    "val_df = df.drop(train_df.index)\n",
    "\n",
    "processor = NLIProcessor(embed_dim=100)\n",
    "processor.build_vocab(train_df[\"premise\"].tolist() + train_df[\"hypothesis\"].tolist())\n",
    "\n",
    "train_dataset = NLIDataset(train_df, processor)\n",
    "val_dataset = NLIDataset(val_df, processor)\n",
    "\n",
    "train_loader = DataLoader(train_dataset, batch_size=64, shuffle=True)\n",
    "val_loader = DataLoader(val_dataset, batch_size=64)\n",
    "\n",
    "device = torch.device(\"cuda\" if torch.cuda.is_available() else \"cpu\")\n",
    "\n",
    "def train_model(model, train_loader, val_loader, criterion, optimizer, device, epochs=5):\n",
    "    train_acc_list, val_acc_list = [], []\n",
    "    for epoch in range(1, epochs + 1):\n",
    "        model.train()\n",
    "        total, correct = 0, 0\n",
    "        for a, b, y in tqdm(train_loader, desc=f\"Train Epoch {epoch}\"):\n",
    "            a, b, y = a.to(device), b.to(device), y.to(device)\n",
    "            optimizer.zero_grad()\n",
    "            out = model(a, b)\n",
    "            loss = criterion(out, y)\n",
    "            loss.backward()\n",
    "            optimizer.step()\n",
    "            pred = out.argmax(1)\n",
    "            correct += (pred == y).sum().item()\n",
    "            total += y.size(0)\n",
    "        train_acc = correct / total\n",
    "\n",
    "        # 验证\n",
    "        model.eval()\n",
    "        total, correct = 0, 0\n",
    "        with torch.no_grad():\n",
    "            for a, b, y in val_loader:\n",
    "                a, b, y = a.to(device), b.to(device), y.to(device)\n",
    "                out = model(a, b)\n",
    "                pred = out.argmax(1)\n",
    "                correct += (pred == y).sum().item()\n",
    "                total += y.size(0)\n",
    "        val_acc = correct / total\n",
    "        train_acc_list.append(train_acc)\n",
    "        val_acc_list.append(val_acc)\n",
    "        print(f\"Epoch {epoch}: Train Acc={train_acc:.4f}, Val Acc={val_acc:.4f}\")\n",
    "    return train_acc_list, val_acc_list\n",
    "\n",
    "def plot(train_acc, val_acc):\n",
    "    epochs = range(1, len(train_acc) + 1)\n",
    "    plt.plot(epochs, train_acc, 'b', label='Training acc')\n",
    "    plt.plot(epochs, val_acc, 'r', label='Validation acc')\n",
    "    plt.title('Training and validation accuracy')\n",
    "    plt.xlabel('Epochs')\n",
    "    plt.ylabel('Accuracy')\n",
    "    plt.legend()\n",
    "    plt.show()"
   ]
  },
  {
   "cell_type": "code",
   "execution_count": null,
   "metadata": {
    "execution": {
     "iopub.execute_input": "2025-10-19T13:17:50.700562Z",
     "iopub.status.busy": "2025-10-19T13:17:50.699787Z",
     "iopub.status.idle": "2025-10-19T13:22:17.095629Z",
     "shell.execute_reply": "2025-10-19T13:22:17.094777Z",
     "shell.execute_reply.started": "2025-10-19T13:17:50.700533Z"
    },
    "trusted": true
   },
   "outputs": [
    {
     "name": "stdout",
     "output_type": "stream",
     "text": [
      "Loading dataset metadata / available splits ...\n"
     ]
    },
    {
     "data": {
      "application/vnd.jupyter.widget-view+json": {
       "model_id": "7238d0ae7b8140dbaaaf0362093ca10a",
       "version_major": 2,
       "version_minor": 0
      },
      "text/plain": [
       "README.md: 0.00B [00:00, ?B/s]"
      ]
     },
     "metadata": {},
     "output_type": "display_data"
    },
    {
     "data": {
      "application/vnd.jupyter.widget-view+json": {
       "model_id": "7606b60b0090418488fdc1f8f2f6b1e5",
       "version_major": 2,
       "version_minor": 0
      },
      "text/plain": [
       "dataset_infos.json: 0.00B [00:00, ?B/s]"
      ]
     },
     "metadata": {},
     "output_type": "display_data"
    },
    {
     "data": {
      "application/vnd.jupyter.widget-view+json": {
       "model_id": "a1d48daef52644448eac0959782b22d7",
       "version_major": 2,
       "version_minor": 0
      },
      "text/plain": [
       "data/ar_anli-00000-of-00001-d5ddcd7a9618(…):   0%|          | 0.00/13.2M [00:00<?, ?B/s]"
      ]
     },
     "metadata": {},
     "output_type": "display_data"
    },
    {
     "data": {
      "application/vnd.jupyter.widget-view+json": {
       "model_id": "bec897fe149e48e79a15c494db680cef",
       "version_major": 2,
       "version_minor": 0
      },
      "text/plain": [
       "data/ar_fever-00000-of-00001-75e864b8c1c(…):   0%|          | 0.00/11.9M [00:00<?, ?B/s]"
      ]
     },
     "metadata": {},
     "output_type": "display_data"
    },
    {
     "data": {
      "application/vnd.jupyter.widget-view+json": {
       "model_id": "89ebf11778e94238af6d806373884da1",
       "version_major": 2,
       "version_minor": 0
      },
      "text/plain": [
       "data/ar_ling-00000-of-00001-f4e042f46b09(…):   0%|          | 0.00/1.13M [00:00<?, ?B/s]"
      ]
     },
     "metadata": {},
     "output_type": "display_data"
    },
    {
     "data": {
      "application/vnd.jupyter.widget-view+json": {
       "model_id": "482ecdfd0b1749d9afd8321a0260362f",
       "version_major": 2,
       "version_minor": 0
      },
      "text/plain": [
       "data/ar_mnli-00000-of-00001-13deaea90655(…):   0%|          | 0.00/6.84M [00:00<?, ?B/s]"
      ]
     },
     "metadata": {},
     "output_type": "display_data"
    },
    {
     "data": {
      "application/vnd.jupyter.widget-view+json": {
       "model_id": "ee787a8caba94c5cb3e47f55a2cba716",
       "version_major": 2,
       "version_minor": 0
      },
      "text/plain": [
       "data/ar_wanli-00000-of-00001-7f580e9d2ef(…):   0%|          | 0.00/5.44M [00:00<?, ?B/s]"
      ]
     },
     "metadata": {},
     "output_type": "display_data"
    },
    {
     "data": {
      "application/vnd.jupyter.widget-view+json": {
       "model_id": "8551f80382024bc2a8b91815cc10bbaf",
       "version_major": 2,
       "version_minor": 0
      },
      "text/plain": [
       "data/bn_anli-00000-of-00001-e8dbc6fc5642(…):   0%|          | 0.00/13.9M [00:00<?, ?B/s]"
      ]
     },
     "metadata": {},
     "output_type": "display_data"
    },
    {
     "data": {
      "application/vnd.jupyter.widget-view+json": {
       "model_id": "a7351314fc2d4e61ac696698be5edaa9",
       "version_major": 2,
       "version_minor": 0
      },
      "text/plain": [
       "data/bn_fever-00000-of-00001-251d867cea0(…):   0%|          | 0.00/13.3M [00:00<?, ?B/s]"
      ]
     },
     "metadata": {},
     "output_type": "display_data"
    },
    {
     "data": {
      "application/vnd.jupyter.widget-view+json": {
       "model_id": "40d9a30d903c48b1891d4f844f011761",
       "version_major": 2,
       "version_minor": 0
      },
      "text/plain": [
       "data/bn_ling-00000-of-00001-53669cb21fe1(…):   0%|          | 0.00/1.27M [00:00<?, ?B/s]"
      ]
     },
     "metadata": {},
     "output_type": "display_data"
    },
    {
     "data": {
      "application/vnd.jupyter.widget-view+json": {
       "model_id": "6ec029626ac14f4ebed51ecbf65fda71",
       "version_major": 2,
       "version_minor": 0
      },
      "text/plain": [
       "data/bn_mnli-00000-of-00001-98ed26f43373(…):   0%|          | 0.00/7.65M [00:00<?, ?B/s]"
      ]
     },
     "metadata": {},
     "output_type": "display_data"
    },
    {
     "data": {
      "application/vnd.jupyter.widget-view+json": {
       "model_id": "baa1e4da9e73430593ef13cbde7bf169",
       "version_major": 2,
       "version_minor": 0
      },
      "text/plain": [
       "data/bn_wanli-00000-of-00001-54ba7e58f30(…):   0%|          | 0.00/6.09M [00:00<?, ?B/s]"
      ]
     },
     "metadata": {},
     "output_type": "display_data"
    },
    {
     "data": {
      "application/vnd.jupyter.widget-view+json": {
       "model_id": "4ad1cdc75b944c61953e09b98bee7ca7",
       "version_major": 2,
       "version_minor": 0
      },
      "text/plain": [
       "data/de_anli-00000-of-00001-3aafac6464dd(…):   0%|          | 0.00/12.1M [00:00<?, ?B/s]"
      ]
     },
     "metadata": {},
     "output_type": "display_data"
    },
    {
     "data": {
      "application/vnd.jupyter.widget-view+json": {
       "model_id": "e5cd47160e4b417086b0fdd4424a9798",
       "version_major": 2,
       "version_minor": 0
      },
      "text/plain": [
       "data/de_fever-00000-of-00001-e6728d1eaeb(…):   0%|          | 0.00/11.7M [00:00<?, ?B/s]"
      ]
     },
     "metadata": {},
     "output_type": "display_data"
    },
    {
     "data": {
      "application/vnd.jupyter.widget-view+json": {
       "model_id": "08abf35c1674413aac69ca137918459d",
       "version_major": 2,
       "version_minor": 0
      },
      "text/plain": [
       "data/de_ling-00000-of-00001-0eb80cb58d7b(…):   0%|          | 0.00/1.08M [00:00<?, ?B/s]"
      ]
     },
     "metadata": {},
     "output_type": "display_data"
    },
    {
     "data": {
      "application/vnd.jupyter.widget-view+json": {
       "model_id": "99de0198fbcc490d87745b1c6872eedc",
       "version_major": 2,
       "version_minor": 0
      },
      "text/plain": [
       "data/de_mnli-00000-of-00001-4426e1a3eb89(…):   0%|          | 0.00/6.57M [00:00<?, ?B/s]"
      ]
     },
     "metadata": {},
     "output_type": "display_data"
    },
    {
     "data": {
      "application/vnd.jupyter.widget-view+json": {
       "model_id": "0b0923cb18d04d3dbdd0ce08218d2855",
       "version_major": 2,
       "version_minor": 0
      },
      "text/plain": [
       "data/de_wanli-00000-of-00001-84103d1bded(…):   0%|          | 0.00/5.27M [00:00<?, ?B/s]"
      ]
     },
     "metadata": {},
     "output_type": "display_data"
    },
    {
     "data": {
      "application/vnd.jupyter.widget-view+json": {
       "model_id": "25c8148afa9e4d538de03988a9f80e9a",
       "version_major": 2,
       "version_minor": 0
      },
      "text/plain": [
       "data/es_anli-00000-of-00001-3e4d4c306dfa(…):   0%|          | 0.00/12.0M [00:00<?, ?B/s]"
      ]
     },
     "metadata": {},
     "output_type": "display_data"
    },
    {
     "data": {
      "application/vnd.jupyter.widget-view+json": {
       "model_id": "6f9170c6f8314edd93f10e73f6e7076c",
       "version_major": 2,
       "version_minor": 0
      },
      "text/plain": [
       "data/es_fever-00000-of-00001-e95eea23303(…):   0%|          | 0.00/10.6M [00:00<?, ?B/s]"
      ]
     },
     "metadata": {},
     "output_type": "display_data"
    },
    {
     "data": {
      "application/vnd.jupyter.widget-view+json": {
       "model_id": "4bc518c8393349eeb0b4a08a128c9fb4",
       "version_major": 2,
       "version_minor": 0
      },
      "text/plain": [
       "data/es_ling-00000-of-00001-7bd5584f1233(…):   0%|          | 0.00/1.07M [00:00<?, ?B/s]"
      ]
     },
     "metadata": {},
     "output_type": "display_data"
    },
    {
     "data": {
      "application/vnd.jupyter.widget-view+json": {
       "model_id": "7302be9fb3384f07b90516b98ab05219",
       "version_major": 2,
       "version_minor": 0
      },
      "text/plain": [
       "data/es_mnli-00000-of-00001-6a706a6752e5(…):   0%|          | 0.00/6.46M [00:00<?, ?B/s]"
      ]
     },
     "metadata": {},
     "output_type": "display_data"
    },
    {
     "data": {
      "application/vnd.jupyter.widget-view+json": {
       "model_id": "9dc7c1a66bb444b2b4d85874308c8190",
       "version_major": 2,
       "version_minor": 0
      },
      "text/plain": [
       "data/es_wanli-00000-of-00001-e6490f97701(…):   0%|          | 0.00/5.15M [00:00<?, ?B/s]"
      ]
     },
     "metadata": {},
     "output_type": "display_data"
    },
    {
     "data": {
      "application/vnd.jupyter.widget-view+json": {
       "model_id": "df12a0ebbac74f94be547ccb48af41e1",
       "version_major": 2,
       "version_minor": 0
      },
      "text/plain": [
       "data/fa_anli-00000-of-00001-08015e8ce2a4(…):   0%|          | 0.00/12.4M [00:00<?, ?B/s]"
      ]
     },
     "metadata": {},
     "output_type": "display_data"
    },
    {
     "data": {
      "application/vnd.jupyter.widget-view+json": {
       "model_id": "3027bf1fcc254603bf9f71395b5cff6f",
       "version_major": 2,
       "version_minor": 0
      },
      "text/plain": [
       "data/fa_fever-00000-of-00001-65f774f13d5(…):   0%|          | 0.00/12.0M [00:00<?, ?B/s]"
      ]
     },
     "metadata": {},
     "output_type": "display_data"
    },
    {
     "data": {
      "application/vnd.jupyter.widget-view+json": {
       "model_id": "ac805e79e6a74bc595d0e21e82ffe13c",
       "version_major": 2,
       "version_minor": 0
      },
      "text/plain": [
       "data/fa_ling-00000-of-00001-bf0c5d0d4e3a(…):   0%|          | 0.00/1.11M [00:00<?, ?B/s]"
      ]
     },
     "metadata": {},
     "output_type": "display_data"
    },
    {
     "data": {
      "application/vnd.jupyter.widget-view+json": {
       "model_id": "059c320f7e3b4703bf4b56ae30c7fe2c",
       "version_major": 2,
       "version_minor": 0
      },
      "text/plain": [
       "data/fa_mnli-00000-of-00001-d2eb82aff5e3(…):   0%|          | 0.00/6.80M [00:00<?, ?B/s]"
      ]
     },
     "metadata": {},
     "output_type": "display_data"
    },
    {
     "data": {
      "application/vnd.jupyter.widget-view+json": {
       "model_id": "f767a234c8fa4e2fb8e5ad09ce50d819",
       "version_major": 2,
       "version_minor": 0
      },
      "text/plain": [
       "data/fa_wanli-00000-of-00001-ed33a926824(…):   0%|          | 0.00/5.39M [00:00<?, ?B/s]"
      ]
     },
     "metadata": {},
     "output_type": "display_data"
    },
    {
     "data": {
      "application/vnd.jupyter.widget-view+json": {
       "model_id": "021a36f5f08542d3b236170016a67f0e",
       "version_major": 2,
       "version_minor": 0
      },
      "text/plain": [
       "data/fr_anli-00000-of-00001-406d04a5c250(…):   0%|          | 0.00/12.0M [00:00<?, ?B/s]"
      ]
     },
     "metadata": {},
     "output_type": "display_data"
    },
    {
     "data": {
      "application/vnd.jupyter.widget-view+json": {
       "model_id": "f2bd245f23c845099354aa67264bbd6e",
       "version_major": 2,
       "version_minor": 0
      },
      "text/plain": [
       "data/fr_fever-00000-of-00001-b7ec330d622(…):   0%|          | 0.00/10.6M [00:00<?, ?B/s]"
      ]
     },
     "metadata": {},
     "output_type": "display_data"
    },
    {
     "data": {
      "application/vnd.jupyter.widget-view+json": {
       "model_id": "756eec655f7a4bf7990fc4e9d09c8527",
       "version_major": 2,
       "version_minor": 0
      },
      "text/plain": [
       "data/fr_ling-00000-of-00001-a6ce0ad48ee9(…):   0%|          | 0.00/1.09M [00:00<?, ?B/s]"
      ]
     },
     "metadata": {},
     "output_type": "display_data"
    },
    {
     "data": {
      "application/vnd.jupyter.widget-view+json": {
       "model_id": "562b0fad41754b2ebebe67a6e8a8dec6",
       "version_major": 2,
       "version_minor": 0
      },
      "text/plain": [
       "data/fr_mnli-00000-of-00001-bd34f338a1b7(…):   0%|          | 0.00/6.58M [00:00<?, ?B/s]"
      ]
     },
     "metadata": {},
     "output_type": "display_data"
    },
    {
     "data": {
      "application/vnd.jupyter.widget-view+json": {
       "model_id": "997a3d1c45e44980a528892f847e90d2",
       "version_major": 2,
       "version_minor": 0
      },
      "text/plain": [
       "data/fr_wanli-00000-of-00001-80e8fb092a1(…):   0%|          | 0.00/5.25M [00:00<?, ?B/s]"
      ]
     },
     "metadata": {},
     "output_type": "display_data"
    },
    {
     "data": {
      "application/vnd.jupyter.widget-view+json": {
       "model_id": "ec7318e66e1541f1888d702ac568a3f5",
       "version_major": 2,
       "version_minor": 0
      },
      "text/plain": [
       "data/he_anli-00000-of-00001-637d0d661350(…):   0%|          | 0.00/10.4M [00:00<?, ?B/s]"
      ]
     },
     "metadata": {},
     "output_type": "display_data"
    },
    {
     "data": {
      "application/vnd.jupyter.widget-view+json": {
       "model_id": "0b6d8c76a17541448991854accde109e",
       "version_major": 2,
       "version_minor": 0
      },
      "text/plain": [
       "data/he_fever-00000-of-00001-2e25d41f641(…):   0%|          | 0.00/10.0M [00:00<?, ?B/s]"
      ]
     },
     "metadata": {},
     "output_type": "display_data"
    },
    {
     "data": {
      "application/vnd.jupyter.widget-view+json": {
       "model_id": "825f856645734ad3bd95dea781dc1450",
       "version_major": 2,
       "version_minor": 0
      },
      "text/plain": [
       "data/he_ling-00000-of-00001-3a28d22a7330(…):   0%|          | 0.00/1.05M [00:00<?, ?B/s]"
      ]
     },
     "metadata": {},
     "output_type": "display_data"
    },
    {
     "data": {
      "application/vnd.jupyter.widget-view+json": {
       "model_id": "a3d2593ea3e54a54bac6c9f329d096bc",
       "version_major": 2,
       "version_minor": 0
      },
      "text/plain": [
       "data/he_mnli-00000-of-00001-a2f2254f9157(…):   0%|          | 0.00/6.40M [00:00<?, ?B/s]"
      ]
     },
     "metadata": {},
     "output_type": "display_data"
    },
    {
     "data": {
      "application/vnd.jupyter.widget-view+json": {
       "model_id": "51cd209294924e1f82f860184c18116f",
       "version_major": 2,
       "version_minor": 0
      },
      "text/plain": [
       "data/he_wanli-00000-of-00001-c80fd2dfa12(…):   0%|          | 0.00/5.13M [00:00<?, ?B/s]"
      ]
     },
     "metadata": {},
     "output_type": "display_data"
    },
    {
     "data": {
      "application/vnd.jupyter.widget-view+json": {
       "model_id": "84a380e8395d46c7a340c07535a31290",
       "version_major": 2,
       "version_minor": 0
      },
      "text/plain": [
       "data/hi_anli-00000-of-00001-cfd4c9c15f49(…):   0%|          | 0.00/12.5M [00:00<?, ?B/s]"
      ]
     },
     "metadata": {},
     "output_type": "display_data"
    },
    {
     "data": {
      "application/vnd.jupyter.widget-view+json": {
       "model_id": "1ad98d80d8814cbe9eaea546ea0d3a2b",
       "version_major": 2,
       "version_minor": 0
      },
      "text/plain": [
       "data/hi_fever-00000-of-00001-d0d5b8f7c0d(…):   0%|          | 0.00/11.0M [00:00<?, ?B/s]"
      ]
     },
     "metadata": {},
     "output_type": "display_data"
    },
    {
     "data": {
      "application/vnd.jupyter.widget-view+json": {
       "model_id": "08c5e58ed410471f9547acee49ad1c46",
       "version_major": 2,
       "version_minor": 0
      },
      "text/plain": [
       "data/hi_ling-00000-of-00001-1bd004f4b3b6(…):   0%|          | 0.00/1.21M [00:00<?, ?B/s]"
      ]
     },
     "metadata": {},
     "output_type": "display_data"
    },
    {
     "data": {
      "application/vnd.jupyter.widget-view+json": {
       "model_id": "495159ed90da45dabeb225c569cf15da",
       "version_major": 2,
       "version_minor": 0
      },
      "text/plain": [
       "data/hi_mnli-00000-of-00001-9247d222544b(…):   0%|          | 0.00/7.21M [00:00<?, ?B/s]"
      ]
     },
     "metadata": {},
     "output_type": "display_data"
    },
    {
     "data": {
      "application/vnd.jupyter.widget-view+json": {
       "model_id": "b8d7e0b24b874311967c79356690de54",
       "version_major": 2,
       "version_minor": 0
      },
      "text/plain": [
       "data/hi_wanli-00000-of-00001-221f4f1bf88(…):   0%|          | 0.00/6.03M [00:00<?, ?B/s]"
      ]
     },
     "metadata": {},
     "output_type": "display_data"
    },
    {
     "data": {
      "application/vnd.jupyter.widget-view+json": {
       "model_id": "7da5bebe1fd84bf99d593b720faacc6b",
       "version_major": 2,
       "version_minor": 0
      },
      "text/plain": [
       "data/id_anli-00000-of-00001-a5d3075569ab(…):   0%|          | 0.00/10.7M [00:00<?, ?B/s]"
      ]
     },
     "metadata": {},
     "output_type": "display_data"
    },
    {
     "data": {
      "application/vnd.jupyter.widget-view+json": {
       "model_id": "a0a2e984cca74bf0ab55b6e7045cb254",
       "version_major": 2,
       "version_minor": 0
      },
      "text/plain": [
       "data/id_fever-00000-of-00001-f6433fcb87c(…):   0%|          | 0.00/10.5M [00:00<?, ?B/s]"
      ]
     },
     "metadata": {},
     "output_type": "display_data"
    },
    {
     "data": {
      "application/vnd.jupyter.widget-view+json": {
       "model_id": "533929b26dcf4b93b4a3d1c6b4cfcf7f",
       "version_major": 2,
       "version_minor": 0
      },
      "text/plain": [
       "data/id_ling-00000-of-00001-bfdecaeace77(…):   0%|          | 0.00/1.01M [00:00<?, ?B/s]"
      ]
     },
     "metadata": {},
     "output_type": "display_data"
    },
    {
     "data": {
      "application/vnd.jupyter.widget-view+json": {
       "model_id": "1a059b3b2c454108b8f4fbeb2754707b",
       "version_major": 2,
       "version_minor": 0
      },
      "text/plain": [
       "data/id_mnli-00000-of-00001-048eec623b4c(…):   0%|          | 0.00/6.17M [00:00<?, ?B/s]"
      ]
     },
     "metadata": {},
     "output_type": "display_data"
    },
    {
     "data": {
      "application/vnd.jupyter.widget-view+json": {
       "model_id": "2ac885852c49488bb9b52544a20ac732",
       "version_major": 2,
       "version_minor": 0
      },
      "text/plain": [
       "data/id_wanli-00000-of-00001-3331e73f169(…):   0%|          | 0.00/4.86M [00:00<?, ?B/s]"
      ]
     },
     "metadata": {},
     "output_type": "display_data"
    },
    {
     "data": {
      "application/vnd.jupyter.widget-view+json": {
       "model_id": "002e72245194473392b9ce96041e828f",
       "version_major": 2,
       "version_minor": 0
      },
      "text/plain": [
       "data/it_anli-00000-of-00001-9c86b81e7187(…):   0%|          | 0.00/12.1M [00:00<?, ?B/s]"
      ]
     },
     "metadata": {},
     "output_type": "display_data"
    },
    {
     "data": {
      "application/vnd.jupyter.widget-view+json": {
       "model_id": "f1fcaadc172f45d79d4aaf653cc47a38",
       "version_major": 2,
       "version_minor": 0
      },
      "text/plain": [
       "data/it_fever-00000-of-00001-4f77204d0dc(…):   0%|          | 0.00/10.9M [00:00<?, ?B/s]"
      ]
     },
     "metadata": {},
     "output_type": "display_data"
    },
    {
     "data": {
      "application/vnd.jupyter.widget-view+json": {
       "model_id": "a6ecddc23e6e40148397b38b519c9370",
       "version_major": 2,
       "version_minor": 0
      },
      "text/plain": [
       "data/it_ling-00000-of-00001-a9c80fc29e20(…):   0%|          | 0.00/1.06M [00:00<?, ?B/s]"
      ]
     },
     "metadata": {},
     "output_type": "display_data"
    },
    {
     "data": {
      "application/vnd.jupyter.widget-view+json": {
       "model_id": "4da84faf7ec74bcab57b2be92c061991",
       "version_major": 2,
       "version_minor": 0
      },
      "text/plain": [
       "data/it_mnli-00000-of-00001-66e118943971(…):   0%|          | 0.00/6.44M [00:00<?, ?B/s]"
      ]
     },
     "metadata": {},
     "output_type": "display_data"
    },
    {
     "data": {
      "application/vnd.jupyter.widget-view+json": {
       "model_id": "dda7e52887d04b0db6b08e274d499715",
       "version_major": 2,
       "version_minor": 0
      },
      "text/plain": [
       "data/it_wanli-00000-of-00001-3d6b3728cee(…):   0%|          | 0.00/5.17M [00:00<?, ?B/s]"
      ]
     },
     "metadata": {},
     "output_type": "display_data"
    },
    {
     "data": {
      "application/vnd.jupyter.widget-view+json": {
       "model_id": "f8a811849d2c4e138b947acfde8b4349",
       "version_major": 2,
       "version_minor": 0
      },
      "text/plain": [
       "data/ja_anli-00000-of-00001-b49d244e36b0(…):   0%|          | 0.00/11.9M [00:00<?, ?B/s]"
      ]
     },
     "metadata": {},
     "output_type": "display_data"
    },
    {
     "data": {
      "application/vnd.jupyter.widget-view+json": {
       "model_id": "3702b46ce2014ae9a9b2da71cc54a4ce",
       "version_major": 2,
       "version_minor": 0
      },
      "text/plain": [
       "data/ja_fever-00000-of-00001-dee624038a8(…):   0%|          | 0.00/11.9M [00:00<?, ?B/s]"
      ]
     },
     "metadata": {},
     "output_type": "display_data"
    },
    {
     "data": {
      "application/vnd.jupyter.widget-view+json": {
       "model_id": "97c86c6576e34b00a90ddeb7f20efe0e",
       "version_major": 2,
       "version_minor": 0
      },
      "text/plain": [
       "data/ja_ling-00000-of-00001-c454b28f5a77(…):   0%|          | 0.00/1.09M [00:00<?, ?B/s]"
      ]
     },
     "metadata": {},
     "output_type": "display_data"
    },
    {
     "data": {
      "application/vnd.jupyter.widget-view+json": {
       "model_id": "d0071fd413a04737bf207605997c0a1b",
       "version_major": 2,
       "version_minor": 0
      },
      "text/plain": [
       "data/ja_mnli-00000-of-00001-64b72954b6a2(…):   0%|          | 0.00/6.72M [00:00<?, ?B/s]"
      ]
     },
     "metadata": {},
     "output_type": "display_data"
    },
    {
     "data": {
      "application/vnd.jupyter.widget-view+json": {
       "model_id": "76c0b049803142af9bc33064db9ed0ef",
       "version_major": 2,
       "version_minor": 0
      },
      "text/plain": [
       "data/ja_wanli-00000-of-00001-c9c59feb6ca(…):   0%|          | 0.00/5.17M [00:00<?, ?B/s]"
      ]
     },
     "metadata": {},
     "output_type": "display_data"
    },
    {
     "data": {
      "application/vnd.jupyter.widget-view+json": {
       "model_id": "113bbfd9a5e44ff6a276ddc3f2aaf067",
       "version_major": 2,
       "version_minor": 0
      },
      "text/plain": [
       "data/ko_anli-00000-of-00001-949e49c56278(…):   0%|          | 0.00/11.9M [00:00<?, ?B/s]"
      ]
     },
     "metadata": {},
     "output_type": "display_data"
    },
    {
     "data": {
      "application/vnd.jupyter.widget-view+json": {
       "model_id": "de8bcd53f79c4038baa1d89dc7d46f9e",
       "version_major": 2,
       "version_minor": 0
      },
      "text/plain": [
       "data/ko_fever-00000-of-00001-8158f84cf52(…):   0%|          | 0.00/11.6M [00:00<?, ?B/s]"
      ]
     },
     "metadata": {},
     "output_type": "display_data"
    },
    {
     "data": {
      "application/vnd.jupyter.widget-view+json": {
       "model_id": "50bab2bbc4494eab8c8dbd2d140e7926",
       "version_major": 2,
       "version_minor": 0
      },
      "text/plain": [
       "data/ko_ling-00000-of-00001-204eb9e6e3a4(…):   0%|          | 0.00/1.08M [00:00<?, ?B/s]"
      ]
     },
     "metadata": {},
     "output_type": "display_data"
    },
    {
     "data": {
      "application/vnd.jupyter.widget-view+json": {
       "model_id": "1b455fce9c9c4996a42f77f9e930cbb1",
       "version_major": 2,
       "version_minor": 0
      },
      "text/plain": [
       "data/ko_mnli-00000-of-00001-2e6b31a55797(…):   0%|          | 0.00/6.56M [00:00<?, ?B/s]"
      ]
     },
     "metadata": {},
     "output_type": "display_data"
    },
    {
     "data": {
      "application/vnd.jupyter.widget-view+json": {
       "model_id": "75e85e60fef146f6bdbd59cd825ae8bf",
       "version_major": 2,
       "version_minor": 0
      },
      "text/plain": [
       "data/ko_wanli-00000-of-00001-087717904ab(…):   0%|          | 0.00/5.15M [00:00<?, ?B/s]"
      ]
     },
     "metadata": {},
     "output_type": "display_data"
    },
    {
     "data": {
      "application/vnd.jupyter.widget-view+json": {
       "model_id": "26a66d34f819411b9fced6f99d573a0a",
       "version_major": 2,
       "version_minor": 0
      },
      "text/plain": [
       "data/mr_anli-00000-of-00001-c106df07ee44(…):   0%|          | 0.00/10.0M [00:00<?, ?B/s]"
      ]
     },
     "metadata": {},
     "output_type": "display_data"
    },
    {
     "data": {
      "application/vnd.jupyter.widget-view+json": {
       "model_id": "e1efb40accc14394a5be6ea19eafccc2",
       "version_major": 2,
       "version_minor": 0
      },
      "text/plain": [
       "data/mr_fever-00000-of-00001-60195a03f93(…):   0%|          | 0.00/9.30M [00:00<?, ?B/s]"
      ]
     },
     "metadata": {},
     "output_type": "display_data"
    },
    {
     "data": {
      "application/vnd.jupyter.widget-view+json": {
       "model_id": "c2d5366711964483a9e7d38990e95bd1",
       "version_major": 2,
       "version_minor": 0
      },
      "text/plain": [
       "data/mr_ling-00000-of-00001-74caf5c2b8d2(…):   0%|          | 0.00/904k [00:00<?, ?B/s]"
      ]
     },
     "metadata": {},
     "output_type": "display_data"
    },
    {
     "data": {
      "application/vnd.jupyter.widget-view+json": {
       "model_id": "3c06a867a21b43b9bf0e01b6b5895d2a",
       "version_major": 2,
       "version_minor": 0
      },
      "text/plain": [
       "data/mr_mnli-00000-of-00001-b5569125278f(…):   0%|          | 0.00/5.58M [00:00<?, ?B/s]"
      ]
     },
     "metadata": {},
     "output_type": "display_data"
    },
    {
     "data": {
      "application/vnd.jupyter.widget-view+json": {
       "model_id": "4dfa68e7af29498d90f80d0b4567af25",
       "version_major": 2,
       "version_minor": 0
      },
      "text/plain": [
       "data/mr_wanli-00000-of-00001-ef52bd7dce6(…):   0%|          | 0.00/4.42M [00:00<?, ?B/s]"
      ]
     },
     "metadata": {},
     "output_type": "display_data"
    },
    {
     "data": {
      "application/vnd.jupyter.widget-view+json": {
       "model_id": "c4cdc1f8aeeb4a519c56ba8c70baa754",
       "version_major": 2,
       "version_minor": 0
      },
      "text/plain": [
       "data/nl_anli-00000-of-00001-3699806aec98(…):   0%|          | 0.00/11.6M [00:00<?, ?B/s]"
      ]
     },
     "metadata": {},
     "output_type": "display_data"
    },
    {
     "data": {
      "application/vnd.jupyter.widget-view+json": {
       "model_id": "2b56bbce360d4f3f8362c146e8cae8ac",
       "version_major": 2,
       "version_minor": 0
      },
      "text/plain": [
       "data/nl_fever-00000-of-00001-b15c4e4c74e(…):   0%|          | 0.00/11.3M [00:00<?, ?B/s]"
      ]
     },
     "metadata": {},
     "output_type": "display_data"
    },
    {
     "data": {
      "application/vnd.jupyter.widget-view+json": {
       "model_id": "6946c004472041b58d1d31847627fb8f",
       "version_major": 2,
       "version_minor": 0
      },
      "text/plain": [
       "data/nl_ling-00000-of-00001-9e501e778d8b(…):   0%|          | 0.00/1.04M [00:00<?, ?B/s]"
      ]
     },
     "metadata": {},
     "output_type": "display_data"
    },
    {
     "data": {
      "application/vnd.jupyter.widget-view+json": {
       "model_id": "54f0f5c58d274d61a8007862f26a5ef8",
       "version_major": 2,
       "version_minor": 0
      },
      "text/plain": [
       "data/nl_mnli-00000-of-00001-bec288bb8bb8(…):   0%|          | 0.00/6.36M [00:00<?, ?B/s]"
      ]
     },
     "metadata": {},
     "output_type": "display_data"
    },
    {
     "data": {
      "application/vnd.jupyter.widget-view+json": {
       "model_id": "d8eeadaf297d42f58b33f4f75954b960",
       "version_major": 2,
       "version_minor": 0
      },
      "text/plain": [
       "data/nl_wanli-00000-of-00001-113a93399bb(…):   0%|          | 0.00/5.10M [00:00<?, ?B/s]"
      ]
     },
     "metadata": {},
     "output_type": "display_data"
    },
    {
     "data": {
      "application/vnd.jupyter.widget-view+json": {
       "model_id": "2718b99a67964fcaae93f12031210739",
       "version_major": 2,
       "version_minor": 0
      },
      "text/plain": [
       "data/pl_anli-00000-of-00001-173177842815(…):   0%|          | 0.00/11.3M [00:00<?, ?B/s]"
      ]
     },
     "metadata": {},
     "output_type": "display_data"
    },
    {
     "data": {
      "application/vnd.jupyter.widget-view+json": {
       "model_id": "8a3916603d3f40a58d69e70451e85ef0",
       "version_major": 2,
       "version_minor": 0
      },
      "text/plain": [
       "data/pl_fever-00000-of-00001-8bf8570570c(…):   0%|          | 0.00/11.3M [00:00<?, ?B/s]"
      ]
     },
     "metadata": {},
     "output_type": "display_data"
    },
    {
     "data": {
      "application/vnd.jupyter.widget-view+json": {
       "model_id": "7193d55c01c44dfb917ba7398791a54b",
       "version_major": 2,
       "version_minor": 0
      },
      "text/plain": [
       "data/pl_ling-00000-of-00001-c2820cd0fa0a(…):   0%|          | 0.00/1.08M [00:00<?, ?B/s]"
      ]
     },
     "metadata": {},
     "output_type": "display_data"
    },
    {
     "data": {
      "application/vnd.jupyter.widget-view+json": {
       "model_id": "27e67fd69a2f46d2b93b4e0dfb382865",
       "version_major": 2,
       "version_minor": 0
      },
      "text/plain": [
       "data/pl_mnli-00000-of-00001-e216c3ea2964(…):   0%|          | 0.00/6.53M [00:00<?, ?B/s]"
      ]
     },
     "metadata": {},
     "output_type": "display_data"
    },
    {
     "data": {
      "application/vnd.jupyter.widget-view+json": {
       "model_id": "8a98e75c5093499d9bde500553262cd0",
       "version_major": 2,
       "version_minor": 0
      },
      "text/plain": [
       "data/pl_wanli-00000-of-00001-6ebacc18bc7(…):   0%|          | 0.00/5.18M [00:00<?, ?B/s]"
      ]
     },
     "metadata": {},
     "output_type": "display_data"
    },
    {
     "data": {
      "application/vnd.jupyter.widget-view+json": {
       "model_id": "99e1f94cc76c496faeb1c893c3bde987",
       "version_major": 2,
       "version_minor": 0
      },
      "text/plain": [
       "data/ps_anli-00000-of-00001-8df86db03379(…):   0%|          | 0.00/12.7M [00:00<?, ?B/s]"
      ]
     },
     "metadata": {},
     "output_type": "display_data"
    },
    {
     "data": {
      "application/vnd.jupyter.widget-view+json": {
       "model_id": "a59fcf19c3e24054b12055dad67e697f",
       "version_major": 2,
       "version_minor": 0
      },
      "text/plain": [
       "data/ps_fever-00000-of-00001-4ab8979e377(…):   0%|          | 0.00/12.2M [00:00<?, ?B/s]"
      ]
     },
     "metadata": {},
     "output_type": "display_data"
    },
    {
     "data": {
      "application/vnd.jupyter.widget-view+json": {
       "model_id": "f4e89cc73d564f5da93d6f6fedc684ef",
       "version_major": 2,
       "version_minor": 0
      },
      "text/plain": [
       "data/ps_ling-00000-of-00001-c0d22535b7ed(…):   0%|          | 0.00/1.09M [00:00<?, ?B/s]"
      ]
     },
     "metadata": {},
     "output_type": "display_data"
    },
    {
     "data": {
      "application/vnd.jupyter.widget-view+json": {
       "model_id": "55a23238a7344c16901868f32a0309e8",
       "version_major": 2,
       "version_minor": 0
      },
      "text/plain": [
       "data/ps_mnli-00000-of-00001-8428c7dac48e(…):   0%|          | 0.00/6.65M [00:00<?, ?B/s]"
      ]
     },
     "metadata": {},
     "output_type": "display_data"
    },
    {
     "data": {
      "application/vnd.jupyter.widget-view+json": {
       "model_id": "2c24437b7eb1472d899f4d4f25950c9e",
       "version_major": 2,
       "version_minor": 0
      },
      "text/plain": [
       "data/ps_wanli-00000-of-00001-73d8db73e62(…):   0%|          | 0.00/5.30M [00:00<?, ?B/s]"
      ]
     },
     "metadata": {},
     "output_type": "display_data"
    },
    {
     "data": {
      "application/vnd.jupyter.widget-view+json": {
       "model_id": "14c64b0c299845409e5831bcdacc695f",
       "version_major": 2,
       "version_minor": 0
      },
      "text/plain": [
       "data/pt_anli-00000-of-00001-21ca95ba4e8f(…):   0%|          | 0.00/12.0M [00:00<?, ?B/s]"
      ]
     },
     "metadata": {},
     "output_type": "display_data"
    },
    {
     "data": {
      "application/vnd.jupyter.widget-view+json": {
       "model_id": "f8e06a85f6904cf1ba21dc1318af41f3",
       "version_major": 2,
       "version_minor": 0
      },
      "text/plain": [
       "data/pt_fever-00000-of-00001-18425098add(…):   0%|          | 0.00/10.7M [00:00<?, ?B/s]"
      ]
     },
     "metadata": {},
     "output_type": "display_data"
    },
    {
     "data": {
      "application/vnd.jupyter.widget-view+json": {
       "model_id": "54e3c94e7d3d4954a3fb15995e521a16",
       "version_major": 2,
       "version_minor": 0
      },
      "text/plain": [
       "data/pt_ling-00000-of-00001-a83548f81f2e(…):   0%|          | 0.00/1.06M [00:00<?, ?B/s]"
      ]
     },
     "metadata": {},
     "output_type": "display_data"
    },
    {
     "data": {
      "application/vnd.jupyter.widget-view+json": {
       "model_id": "3af2b1d2e1904ad78cae89887ba85ac3",
       "version_major": 2,
       "version_minor": 0
      },
      "text/plain": [
       "data/pt_mnli-00000-of-00001-26d159c0e009(…):   0%|          | 0.00/6.40M [00:00<?, ?B/s]"
      ]
     },
     "metadata": {},
     "output_type": "display_data"
    },
    {
     "data": {
      "application/vnd.jupyter.widget-view+json": {
       "model_id": "253630907bd347d489b3893762b4280d",
       "version_major": 2,
       "version_minor": 0
      },
      "text/plain": [
       "data/pt_wanli-00000-of-00001-4fb59a850c0(…):   0%|          | 0.00/5.09M [00:00<?, ?B/s]"
      ]
     },
     "metadata": {},
     "output_type": "display_data"
    },
    {
     "data": {
      "application/vnd.jupyter.widget-view+json": {
       "model_id": "d92144b23b9843a5aff6255fa4c5321c",
       "version_major": 2,
       "version_minor": 0
      },
      "text/plain": [
       "data/ru_anli-00000-of-00001-f2258d5b2015(…):   0%|          | 0.00/13.4M [00:00<?, ?B/s]"
      ]
     },
     "metadata": {},
     "output_type": "display_data"
    },
    {
     "data": {
      "application/vnd.jupyter.widget-view+json": {
       "model_id": "6d2675782b5b4cb89eacdcf13bf03d2b",
       "version_major": 2,
       "version_minor": 0
      },
      "text/plain": [
       "data/ru_fever-00000-of-00001-5b067e11d27(…):   0%|          | 0.00/12.8M [00:00<?, ?B/s]"
      ]
     },
     "metadata": {},
     "output_type": "display_data"
    },
    {
     "data": {
      "application/vnd.jupyter.widget-view+json": {
       "model_id": "e775842890fe48b39cda2621b340c1ec",
       "version_major": 2,
       "version_minor": 0
      },
      "text/plain": [
       "data/ru_ling-00000-of-00001-2241982f6604(…):   0%|          | 0.00/1.24M [00:00<?, ?B/s]"
      ]
     },
     "metadata": {},
     "output_type": "display_data"
    },
    {
     "data": {
      "application/vnd.jupyter.widget-view+json": {
       "model_id": "e0249c7066b04ebebc37db88dd877dae",
       "version_major": 2,
       "version_minor": 0
      },
      "text/plain": [
       "data/ru_mnli-00000-of-00001-fcb02986b138(…):   0%|          | 0.00/7.55M [00:00<?, ?B/s]"
      ]
     },
     "metadata": {},
     "output_type": "display_data"
    },
    {
     "data": {
      "application/vnd.jupyter.widget-view+json": {
       "model_id": "f1d3a4ab1a504267af671a90b475a18f",
       "version_major": 2,
       "version_minor": 0
      },
      "text/plain": [
       "data/ru_wanli-00000-of-00001-83c90cadb4c(…):   0%|          | 0.00/6.10M [00:00<?, ?B/s]"
      ]
     },
     "metadata": {},
     "output_type": "display_data"
    },
    {
     "data": {
      "application/vnd.jupyter.widget-view+json": {
       "model_id": "b6c0edca61644844bc4e5b49245466ea",
       "version_major": 2,
       "version_minor": 0
      },
      "text/plain": [
       "data/sv_anli-00000-of-00001-1f6b78374d02(…):   0%|          | 0.00/12.0M [00:00<?, ?B/s]"
      ]
     },
     "metadata": {},
     "output_type": "display_data"
    },
    {
     "data": {
      "application/vnd.jupyter.widget-view+json": {
       "model_id": "171645d905504c2986779e933da6a7b1",
       "version_major": 2,
       "version_minor": 0
      },
      "text/plain": [
       "data/sv_fever-00000-of-00001-135e884c9bd(…):   0%|          | 0.00/11.4M [00:00<?, ?B/s]"
      ]
     },
     "metadata": {},
     "output_type": "display_data"
    },
    {
     "data": {
      "application/vnd.jupyter.widget-view+json": {
       "model_id": "8a256ed7d73a4951a6d73dd3b834e165",
       "version_major": 2,
       "version_minor": 0
      },
      "text/plain": [
       "data/sv_ling-00000-of-00001-5e4fe5be8ca7(…):   0%|          | 0.00/1.04M [00:00<?, ?B/s]"
      ]
     },
     "metadata": {},
     "output_type": "display_data"
    },
    {
     "data": {
      "application/vnd.jupyter.widget-view+json": {
       "model_id": "ec7df7b97fec4fe19f569b9910271bc0",
       "version_major": 2,
       "version_minor": 0
      },
      "text/plain": [
       "data/sv_mnli-00000-of-00001-82f86483a7e8(…):   0%|          | 0.00/6.27M [00:00<?, ?B/s]"
      ]
     },
     "metadata": {},
     "output_type": "display_data"
    },
    {
     "data": {
      "application/vnd.jupyter.widget-view+json": {
       "model_id": "49cb80b75b1e4bb4a8ced330d87387d5",
       "version_major": 2,
       "version_minor": 0
      },
      "text/plain": [
       "data/sv_wanli-00000-of-00001-4b2993805c9(…):   0%|          | 0.00/5.00M [00:00<?, ?B/s]"
      ]
     },
     "metadata": {},
     "output_type": "display_data"
    },
    {
     "data": {
      "application/vnd.jupyter.widget-view+json": {
       "model_id": "936b6fa12a2146eb999910ba5170df6f",
       "version_major": 2,
       "version_minor": 0
      },
      "text/plain": [
       "data/sw_anli-00000-of-00001-55facff0acfa(…):   0%|          | 0.00/10.8M [00:00<?, ?B/s]"
      ]
     },
     "metadata": {},
     "output_type": "display_data"
    },
    {
     "data": {
      "application/vnd.jupyter.widget-view+json": {
       "model_id": "201f55c0ee2b4b9895dd7c1b62241e42",
       "version_major": 2,
       "version_minor": 0
      },
      "text/plain": [
       "data/sw_fever-00000-of-00001-cb3d8545907(…):   0%|          | 0.00/10.8M [00:00<?, ?B/s]"
      ]
     },
     "metadata": {},
     "output_type": "display_data"
    },
    {
     "data": {
      "application/vnd.jupyter.widget-view+json": {
       "model_id": "65da5449bc7e4a90898b758e0c40d15a",
       "version_major": 2,
       "version_minor": 0
      },
      "text/plain": [
       "data/sw_ling-00000-of-00001-2dd3fd61634c(…):   0%|          | 0.00/1.02M [00:00<?, ?B/s]"
      ]
     },
     "metadata": {},
     "output_type": "display_data"
    },
    {
     "data": {
      "application/vnd.jupyter.widget-view+json": {
       "model_id": "1b4f8ae7ecd84363ad0f6f6200505c6f",
       "version_major": 2,
       "version_minor": 0
      },
      "text/plain": [
       "data/sw_mnli-00000-of-00001-86f49c4944f6(…):   0%|          | 0.00/6.21M [00:00<?, ?B/s]"
      ]
     },
     "metadata": {},
     "output_type": "display_data"
    },
    {
     "data": {
      "application/vnd.jupyter.widget-view+json": {
       "model_id": "98b279e9113e45b2b19dc08b4771a776",
       "version_major": 2,
       "version_minor": 0
      },
      "text/plain": [
       "data/sw_wanli-00000-of-00001-111ce8f931c(…):   0%|          | 0.00/4.88M [00:00<?, ?B/s]"
      ]
     },
     "metadata": {},
     "output_type": "display_data"
    },
    {
     "data": {
      "application/vnd.jupyter.widget-view+json": {
       "model_id": "3e85e8af3d024794b33aa0325d1bc43b",
       "version_major": 2,
       "version_minor": 0
      },
      "text/plain": [
       "data/ta_anli-00000-of-00001-8f0328d2c112(…):   0%|          | 0.00/8.96M [00:00<?, ?B/s]"
      ]
     },
     "metadata": {},
     "output_type": "display_data"
    },
    {
     "data": {
      "application/vnd.jupyter.widget-view+json": {
       "model_id": "8e689ffd86524b3db751624929e0e4a3",
       "version_major": 2,
       "version_minor": 0
      },
      "text/plain": [
       "data/ta_fever-00000-of-00001-a7dd7f34109(…):   0%|          | 0.00/9.49M [00:00<?, ?B/s]"
      ]
     },
     "metadata": {},
     "output_type": "display_data"
    },
    {
     "data": {
      "application/vnd.jupyter.widget-view+json": {
       "model_id": "22d49e2f1bd54bd6a4225e1049baca7e",
       "version_major": 2,
       "version_minor": 0
      },
      "text/plain": [
       "data/ta_ling-00000-of-00001-52464197987a(…):   0%|          | 0.00/1.10M [00:00<?, ?B/s]"
      ]
     },
     "metadata": {},
     "output_type": "display_data"
    },
    {
     "data": {
      "application/vnd.jupyter.widget-view+json": {
       "model_id": "451bab71b9a14279942b7a987ff5353d",
       "version_major": 2,
       "version_minor": 0
      },
      "text/plain": [
       "data/ta_mnli-00000-of-00001-ea7bbba526e7(…):   0%|          | 0.00/6.55M [00:00<?, ?B/s]"
      ]
     },
     "metadata": {},
     "output_type": "display_data"
    },
    {
     "data": {
      "application/vnd.jupyter.widget-view+json": {
       "model_id": "0d516c6adb5146ec985562fccf469ce0",
       "version_major": 2,
       "version_minor": 0
      },
      "text/plain": [
       "data/ta_wanli-00000-of-00001-ad02947605a(…):   0%|          | 0.00/5.62M [00:00<?, ?B/s]"
      ]
     },
     "metadata": {},
     "output_type": "display_data"
    },
    {
     "data": {
      "application/vnd.jupyter.widget-view+json": {
       "model_id": "d414cd61aa324127b2cd968612d4eb7e",
       "version_major": 2,
       "version_minor": 0
      },
      "text/plain": [
       "data/tr_anli-00000-of-00001-83c0236e742f(…):   0%|          | 0.00/12.0M [00:00<?, ?B/s]"
      ]
     },
     "metadata": {},
     "output_type": "display_data"
    },
    {
     "data": {
      "application/vnd.jupyter.widget-view+json": {
       "model_id": "deef834a1e264b38bdcdb4239c323bd2",
       "version_major": 2,
       "version_minor": 0
      },
      "text/plain": [
       "data/tr_fever-00000-of-00001-e53fdd42a04(…):   0%|          | 0.00/10.9M [00:00<?, ?B/s]"
      ]
     },
     "metadata": {},
     "output_type": "display_data"
    },
    {
     "data": {
      "application/vnd.jupyter.widget-view+json": {
       "model_id": "979ab4fd5da447d5b09b707e3576aab7",
       "version_major": 2,
       "version_minor": 0
      },
      "text/plain": [
       "data/tr_ling-00000-of-00001-5f0f940d2e3d(…):   0%|          | 0.00/1.05M [00:00<?, ?B/s]"
      ]
     },
     "metadata": {},
     "output_type": "display_data"
    },
    {
     "data": {
      "application/vnd.jupyter.widget-view+json": {
       "model_id": "010a9a1a62a746fe9fbc215d1590d8ae",
       "version_major": 2,
       "version_minor": 0
      },
      "text/plain": [
       "data/tr_mnli-00000-of-00001-56efd5b9813a(…):   0%|          | 0.00/6.32M [00:00<?, ?B/s]"
      ]
     },
     "metadata": {},
     "output_type": "display_data"
    },
    {
     "data": {
      "application/vnd.jupyter.widget-view+json": {
       "model_id": "7d21e77654b948379adc1fed94056845",
       "version_major": 2,
       "version_minor": 0
      },
      "text/plain": [
       "data/tr_wanli-00000-of-00001-3b662118962(…):   0%|          | 0.00/5.00M [00:00<?, ?B/s]"
      ]
     },
     "metadata": {},
     "output_type": "display_data"
    },
    {
     "data": {
      "application/vnd.jupyter.widget-view+json": {
       "model_id": "54b8bb248f114abc9fda15f0d42cfa1f",
       "version_major": 2,
       "version_minor": 0
      },
      "text/plain": [
       "data/uk_anli-00000-of-00001-928fbbaf7891(…):   0%|          | 0.00/13.4M [00:00<?, ?B/s]"
      ]
     },
     "metadata": {},
     "output_type": "display_data"
    },
    {
     "data": {
      "application/vnd.jupyter.widget-view+json": {
       "model_id": "b9ad39d57db0432589436bfa4329f155",
       "version_major": 2,
       "version_minor": 0
      },
      "text/plain": [
       "data/uk_fever-00000-of-00001-0a129b539cb(…):   0%|          | 0.00/12.8M [00:00<?, ?B/s]"
      ]
     },
     "metadata": {},
     "output_type": "display_data"
    },
    {
     "data": {
      "application/vnd.jupyter.widget-view+json": {
       "model_id": "f550147a01db457e9c5f365890032dc1",
       "version_major": 2,
       "version_minor": 0
      },
      "text/plain": [
       "data/uk_ling-00000-of-00001-1a9c41899cd1(…):   0%|          | 0.00/1.22M [00:00<?, ?B/s]"
      ]
     },
     "metadata": {},
     "output_type": "display_data"
    },
    {
     "data": {
      "application/vnd.jupyter.widget-view+json": {
       "model_id": "3f023d15bc0542729b97bdb9c1853498",
       "version_major": 2,
       "version_minor": 0
      },
      "text/plain": [
       "data/uk_mnli-00000-of-00001-157bffbd0451(…):   0%|          | 0.00/7.36M [00:00<?, ?B/s]"
      ]
     },
     "metadata": {},
     "output_type": "display_data"
    },
    {
     "data": {
      "application/vnd.jupyter.widget-view+json": {
       "model_id": "14a0aeff365c41998273f35c3ad92f65",
       "version_major": 2,
       "version_minor": 0
      },
      "text/plain": [
       "data/uk_wanli-00000-of-00001-03453a81308(…):   0%|          | 0.00/5.89M [00:00<?, ?B/s]"
      ]
     },
     "metadata": {},
     "output_type": "display_data"
    },
    {
     "data": {
      "application/vnd.jupyter.widget-view+json": {
       "model_id": "d9e6d93e7f254f648b30b19fcf1e3e7a",
       "version_major": 2,
       "version_minor": 0
      },
      "text/plain": [
       "data/ur_anli-00000-of-00001-9706a835abd6(…):   0%|          | 0.00/10.1M [00:00<?, ?B/s]"
      ]
     },
     "metadata": {},
     "output_type": "display_data"
    },
    {
     "data": {
      "application/vnd.jupyter.widget-view+json": {
       "model_id": "bbfeccad4e084e5e9a311d8118c2f900",
       "version_major": 2,
       "version_minor": 0
      },
      "text/plain": [
       "data/ur_fever-00000-of-00001-cde700c612e(…):   0%|          | 0.00/9.36M [00:00<?, ?B/s]"
      ]
     },
     "metadata": {},
     "output_type": "display_data"
    },
    {
     "data": {
      "application/vnd.jupyter.widget-view+json": {
       "model_id": "972de5f5880e4e45b3862a5232e66d64",
       "version_major": 2,
       "version_minor": 0
      },
      "text/plain": [
       "data/ur_ling-00000-of-00001-2a487cc4b4eb(…):   0%|          | 0.00/1.06M [00:00<?, ?B/s]"
      ]
     },
     "metadata": {},
     "output_type": "display_data"
    },
    {
     "data": {
      "application/vnd.jupyter.widget-view+json": {
       "model_id": "53e4f11910354092a4067ad96b93036f",
       "version_major": 2,
       "version_minor": 0
      },
      "text/plain": [
       "data/ur_mnli-00000-of-00001-ac072d7484e3(…):   0%|          | 0.00/6.41M [00:00<?, ?B/s]"
      ]
     },
     "metadata": {},
     "output_type": "display_data"
    },
    {
     "data": {
      "application/vnd.jupyter.widget-view+json": {
       "model_id": "0f2d25dab40643ab85d1e00b85066c57",
       "version_major": 2,
       "version_minor": 0
      },
      "text/plain": [
       "data/ur_wanli-00000-of-00001-a5ab0b9a749(…):   0%|          | 0.00/5.40M [00:00<?, ?B/s]"
      ]
     },
     "metadata": {},
     "output_type": "display_data"
    },
    {
     "data": {
      "application/vnd.jupyter.widget-view+json": {
       "model_id": "3dac781c4c9c44ff8214a4e3c2b38e48",
       "version_major": 2,
       "version_minor": 0
      },
      "text/plain": [
       "data/vi_anli-00000-of-00001-7e787be6ac1f(…):   0%|          | 0.00/11.3M [00:00<?, ?B/s]"
      ]
     },
     "metadata": {},
     "output_type": "display_data"
    },
    {
     "data": {
      "application/vnd.jupyter.widget-view+json": {
       "model_id": "eb052dd5f534406dab026b88006a964e",
       "version_major": 2,
       "version_minor": 0
      },
      "text/plain": [
       "data/vi_fever-00000-of-00001-f716544ff72(…):   0%|          | 0.00/10.8M [00:00<?, ?B/s]"
      ]
     },
     "metadata": {},
     "output_type": "display_data"
    },
    {
     "data": {
      "application/vnd.jupyter.widget-view+json": {
       "model_id": "171cf47fc1e24b70b24adcb6b4d42e3b",
       "version_major": 2,
       "version_minor": 0
      },
      "text/plain": [
       "data/vi_ling-00000-of-00001-9fffc9d6c215(…):   0%|          | 0.00/1.05M [00:00<?, ?B/s]"
      ]
     },
     "metadata": {},
     "output_type": "display_data"
    },
    {
     "data": {
      "application/vnd.jupyter.widget-view+json": {
       "model_id": "13af87ac1dce4c4a9b7205463a7c8fef",
       "version_major": 2,
       "version_minor": 0
      },
      "text/plain": [
       "data/vi_mnli-00000-of-00001-7932e0643171(…):   0%|          | 0.00/6.50M [00:00<?, ?B/s]"
      ]
     },
     "metadata": {},
     "output_type": "display_data"
    },
    {
     "data": {
      "application/vnd.jupyter.widget-view+json": {
       "model_id": "7e970df3165f48849cfbb57959383060",
       "version_major": 2,
       "version_minor": 0
      },
      "text/plain": [
       "data/vi_wanli-00000-of-00001-6bcb1563253(…):   0%|          | 0.00/5.20M [00:00<?, ?B/s]"
      ]
     },
     "metadata": {},
     "output_type": "display_data"
    },
    {
     "data": {
      "application/vnd.jupyter.widget-view+json": {
       "model_id": "9c235a1b023a49d69537339cc25593af",
       "version_major": 2,
       "version_minor": 0
      },
      "text/plain": [
       "data/zh_anli-00000-of-00001-badbb4c3fd4e(…):   0%|          | 0.00/11.3M [00:00<?, ?B/s]"
      ]
     },
     "metadata": {},
     "output_type": "display_data"
    },
    {
     "data": {
      "application/vnd.jupyter.widget-view+json": {
       "model_id": "25c3e993095e476b9c58c87f02f1efef",
       "version_major": 2,
       "version_minor": 0
      },
      "text/plain": [
       "data/zh_fever-00000-of-00001-b6bb1bca5e3(…):   0%|          | 0.00/10.9M [00:00<?, ?B/s]"
      ]
     },
     "metadata": {},
     "output_type": "display_data"
    },
    {
     "data": {
      "application/vnd.jupyter.widget-view+json": {
       "model_id": "56f3fa3f7ce84e7b8afdd52e77714e31",
       "version_major": 2,
       "version_minor": 0
      },
      "text/plain": [
       "data/zh_ling-00000-of-00001-fa88ac91eac1(…):   0%|          | 0.00/978k [00:00<?, ?B/s]"
      ]
     },
     "metadata": {},
     "output_type": "display_data"
    },
    {
     "data": {
      "application/vnd.jupyter.widget-view+json": {
       "model_id": "cfa2350922c64069a1e95cbd6570d833",
       "version_major": 2,
       "version_minor": 0
      },
      "text/plain": [
       "data/zh_mnli-00000-of-00001-7cdc260bd1a5(…):   0%|          | 0.00/5.94M [00:00<?, ?B/s]"
      ]
     },
     "metadata": {},
     "output_type": "display_data"
    },
    {
     "data": {
      "application/vnd.jupyter.widget-view+json": {
       "model_id": "89319827e5344dbf9342560857a383fe",
       "version_major": 2,
       "version_minor": 0
      },
      "text/plain": [
       "data/zh_wanli-00000-of-00001-9449492634a(…):   0%|          | 0.00/4.75M [00:00<?, ?B/s]"
      ]
     },
     "metadata": {},
     "output_type": "display_data"
    },
    {
     "data": {
      "application/vnd.jupyter.widget-view+json": {
       "model_id": "57ae31ee4f77432faeca3b5e253097e9",
       "version_major": 2,
       "version_minor": 0
      },
      "text/plain": [
       "Generating ar_anli split:   0%|          | 0/25000 [00:00<?, ? examples/s]"
      ]
     },
     "metadata": {},
     "output_type": "display_data"
    },
    {
     "data": {
      "application/vnd.jupyter.widget-view+json": {
       "model_id": "8c8d5c0eb8f54af8b9f82c3773598d8c",
       "version_major": 2,
       "version_minor": 0
      },
      "text/plain": [
       "Generating ar_fever split:   0%|          | 0/25000 [00:00<?, ? examples/s]"
      ]
     },
     "metadata": {},
     "output_type": "display_data"
    },
    {
     "data": {
      "application/vnd.jupyter.widget-view+json": {
       "model_id": "c9e7d459409e4c1c86d46c1a6c55f660",
       "version_major": 2,
       "version_minor": 0
      },
      "text/plain": [
       "Generating ar_ling split:   0%|          | 0/5000 [00:00<?, ? examples/s]"
      ]
     },
     "metadata": {},
     "output_type": "display_data"
    },
    {
     "data": {
      "application/vnd.jupyter.widget-view+json": {
       "model_id": "523dcb86b0854704b3ca71aecb2822a2",
       "version_major": 2,
       "version_minor": 0
      },
      "text/plain": [
       "Generating ar_mnli split:   0%|          | 0/25000 [00:00<?, ? examples/s]"
      ]
     },
     "metadata": {},
     "output_type": "display_data"
    },
    {
     "data": {
      "application/vnd.jupyter.widget-view+json": {
       "model_id": "c104c1df55af406b9ca5df99e52e91c5",
       "version_major": 2,
       "version_minor": 0
      },
      "text/plain": [
       "Generating ar_wanli split:   0%|          | 0/25000 [00:00<?, ? examples/s]"
      ]
     },
     "metadata": {},
     "output_type": "display_data"
    },
    {
     "data": {
      "application/vnd.jupyter.widget-view+json": {
       "model_id": "d367c7deeb9c4fdda48ae30fb166580f",
       "version_major": 2,
       "version_minor": 0
      },
      "text/plain": [
       "Generating bn_anli split:   0%|          | 0/25000 [00:00<?, ? examples/s]"
      ]
     },
     "metadata": {},
     "output_type": "display_data"
    },
    {
     "data": {
      "application/vnd.jupyter.widget-view+json": {
       "model_id": "27f5f144313945e3abce1c07d27d33cf",
       "version_major": 2,
       "version_minor": 0
      },
      "text/plain": [
       "Generating bn_fever split:   0%|          | 0/25000 [00:00<?, ? examples/s]"
      ]
     },
     "metadata": {},
     "output_type": "display_data"
    },
    {
     "data": {
      "application/vnd.jupyter.widget-view+json": {
       "model_id": "820109fb6e5e47ae9518810adc76de37",
       "version_major": 2,
       "version_minor": 0
      },
      "text/plain": [
       "Generating bn_ling split:   0%|          | 0/5000 [00:00<?, ? examples/s]"
      ]
     },
     "metadata": {},
     "output_type": "display_data"
    },
    {
     "data": {
      "application/vnd.jupyter.widget-view+json": {
       "model_id": "fcae521aad84421c840ed0cb5da24c2d",
       "version_major": 2,
       "version_minor": 0
      },
      "text/plain": [
       "Generating bn_mnli split:   0%|          | 0/25000 [00:00<?, ? examples/s]"
      ]
     },
     "metadata": {},
     "output_type": "display_data"
    },
    {
     "data": {
      "application/vnd.jupyter.widget-view+json": {
       "model_id": "e2903a41d4de4805bfd91cd4089bfc10",
       "version_major": 2,
       "version_minor": 0
      },
      "text/plain": [
       "Generating bn_wanli split:   0%|          | 0/25000 [00:00<?, ? examples/s]"
      ]
     },
     "metadata": {},
     "output_type": "display_data"
    },
    {
     "data": {
      "application/vnd.jupyter.widget-view+json": {
       "model_id": "cfa58574cce64c14b4d209375b1d0e2b",
       "version_major": 2,
       "version_minor": 0
      },
      "text/plain": [
       "Generating de_anli split:   0%|          | 0/25000 [00:00<?, ? examples/s]"
      ]
     },
     "metadata": {},
     "output_type": "display_data"
    },
    {
     "data": {
      "application/vnd.jupyter.widget-view+json": {
       "model_id": "ab599d290bb34db3931789f4da285cc4",
       "version_major": 2,
       "version_minor": 0
      },
      "text/plain": [
       "Generating de_fever split:   0%|          | 0/25000 [00:00<?, ? examples/s]"
      ]
     },
     "metadata": {},
     "output_type": "display_data"
    },
    {
     "data": {
      "application/vnd.jupyter.widget-view+json": {
       "model_id": "f1edfe37d2b5499ca2421bff24cf7b44",
       "version_major": 2,
       "version_minor": 0
      },
      "text/plain": [
       "Generating de_ling split:   0%|          | 0/5000 [00:00<?, ? examples/s]"
      ]
     },
     "metadata": {},
     "output_type": "display_data"
    },
    {
     "data": {
      "application/vnd.jupyter.widget-view+json": {
       "model_id": "5c5c8a82d4fd40adb04d79efa8e3785b",
       "version_major": 2,
       "version_minor": 0
      },
      "text/plain": [
       "Generating de_mnli split:   0%|          | 0/25000 [00:00<?, ? examples/s]"
      ]
     },
     "metadata": {},
     "output_type": "display_data"
    },
    {
     "data": {
      "application/vnd.jupyter.widget-view+json": {
       "model_id": "0d0a877769e74b7dae0ed206eb8c6b3a",
       "version_major": 2,
       "version_minor": 0
      },
      "text/plain": [
       "Generating de_wanli split:   0%|          | 0/25000 [00:00<?, ? examples/s]"
      ]
     },
     "metadata": {},
     "output_type": "display_data"
    },
    {
     "data": {
      "application/vnd.jupyter.widget-view+json": {
       "model_id": "cc023be74a2849b8acc4326fe5fc7816",
       "version_major": 2,
       "version_minor": 0
      },
      "text/plain": [
       "Generating es_anli split:   0%|          | 0/25000 [00:00<?, ? examples/s]"
      ]
     },
     "metadata": {},
     "output_type": "display_data"
    },
    {
     "data": {
      "application/vnd.jupyter.widget-view+json": {
       "model_id": "d181d048d1d246fa91e7afbf8ecb71aa",
       "version_major": 2,
       "version_minor": 0
      },
      "text/plain": [
       "Generating es_fever split:   0%|          | 0/25000 [00:00<?, ? examples/s]"
      ]
     },
     "metadata": {},
     "output_type": "display_data"
    },
    {
     "data": {
      "application/vnd.jupyter.widget-view+json": {
       "model_id": "6dc00e614781485690971322d1bfc1e7",
       "version_major": 2,
       "version_minor": 0
      },
      "text/plain": [
       "Generating es_ling split:   0%|          | 0/5000 [00:00<?, ? examples/s]"
      ]
     },
     "metadata": {},
     "output_type": "display_data"
    },
    {
     "data": {
      "application/vnd.jupyter.widget-view+json": {
       "model_id": "c0b88256a8bc456997fdfd777ef2c234",
       "version_major": 2,
       "version_minor": 0
      },
      "text/plain": [
       "Generating es_mnli split:   0%|          | 0/25000 [00:00<?, ? examples/s]"
      ]
     },
     "metadata": {},
     "output_type": "display_data"
    },
    {
     "data": {
      "application/vnd.jupyter.widget-view+json": {
       "model_id": "9f6c7e7ae94748d6aeb107d006239312",
       "version_major": 2,
       "version_minor": 0
      },
      "text/plain": [
       "Generating es_wanli split:   0%|          | 0/25000 [00:00<?, ? examples/s]"
      ]
     },
     "metadata": {},
     "output_type": "display_data"
    },
    {
     "data": {
      "application/vnd.jupyter.widget-view+json": {
       "model_id": "20467c796c57436a843e836cc0167037",
       "version_major": 2,
       "version_minor": 0
      },
      "text/plain": [
       "Generating fa_anli split:   0%|          | 0/25000 [00:00<?, ? examples/s]"
      ]
     },
     "metadata": {},
     "output_type": "display_data"
    },
    {
     "data": {
      "application/vnd.jupyter.widget-view+json": {
       "model_id": "19047b2b3f10416eaacc315813af667b",
       "version_major": 2,
       "version_minor": 0
      },
      "text/plain": [
       "Generating fa_fever split:   0%|          | 0/25000 [00:00<?, ? examples/s]"
      ]
     },
     "metadata": {},
     "output_type": "display_data"
    },
    {
     "data": {
      "application/vnd.jupyter.widget-view+json": {
       "model_id": "52736700b9e44e2f93726172d8729d7e",
       "version_major": 2,
       "version_minor": 0
      },
      "text/plain": [
       "Generating fa_ling split:   0%|          | 0/5000 [00:00<?, ? examples/s]"
      ]
     },
     "metadata": {},
     "output_type": "display_data"
    },
    {
     "data": {
      "application/vnd.jupyter.widget-view+json": {
       "model_id": "1f11325d28854ebdaa1ce9e292b4fc57",
       "version_major": 2,
       "version_minor": 0
      },
      "text/plain": [
       "Generating fa_mnli split:   0%|          | 0/25000 [00:00<?, ? examples/s]"
      ]
     },
     "metadata": {},
     "output_type": "display_data"
    },
    {
     "data": {
      "application/vnd.jupyter.widget-view+json": {
       "model_id": "1afcd41ae72f4344925ae72545a3b1c4",
       "version_major": 2,
       "version_minor": 0
      },
      "text/plain": [
       "Generating fa_wanli split:   0%|          | 0/25000 [00:00<?, ? examples/s]"
      ]
     },
     "metadata": {},
     "output_type": "display_data"
    },
    {
     "data": {
      "application/vnd.jupyter.widget-view+json": {
       "model_id": "d2a4faeb48e84d42a59f31ffafb8b22c",
       "version_major": 2,
       "version_minor": 0
      },
      "text/plain": [
       "Generating fr_anli split:   0%|          | 0/25000 [00:00<?, ? examples/s]"
      ]
     },
     "metadata": {},
     "output_type": "display_data"
    },
    {
     "data": {
      "application/vnd.jupyter.widget-view+json": {
       "model_id": "f7da2003e10d4178a5fe55b438e48864",
       "version_major": 2,
       "version_minor": 0
      },
      "text/plain": [
       "Generating fr_fever split:   0%|          | 0/25000 [00:00<?, ? examples/s]"
      ]
     },
     "metadata": {},
     "output_type": "display_data"
    },
    {
     "data": {
      "application/vnd.jupyter.widget-view+json": {
       "model_id": "951dfb44908d44eda8237f7ca5806f7b",
       "version_major": 2,
       "version_minor": 0
      },
      "text/plain": [
       "Generating fr_ling split:   0%|          | 0/5000 [00:00<?, ? examples/s]"
      ]
     },
     "metadata": {},
     "output_type": "display_data"
    },
    {
     "data": {
      "application/vnd.jupyter.widget-view+json": {
       "model_id": "191282cbe41f4ef1a99a6757f693c6c7",
       "version_major": 2,
       "version_minor": 0
      },
      "text/plain": [
       "Generating fr_mnli split:   0%|          | 0/25000 [00:00<?, ? examples/s]"
      ]
     },
     "metadata": {},
     "output_type": "display_data"
    },
    {
     "data": {
      "application/vnd.jupyter.widget-view+json": {
       "model_id": "de2e0a4e6ac64ad992091f4545680267",
       "version_major": 2,
       "version_minor": 0
      },
      "text/plain": [
       "Generating fr_wanli split:   0%|          | 0/25000 [00:00<?, ? examples/s]"
      ]
     },
     "metadata": {},
     "output_type": "display_data"
    },
    {
     "data": {
      "application/vnd.jupyter.widget-view+json": {
       "model_id": "bd80e08688c34cdc821b3601d215a3d4",
       "version_major": 2,
       "version_minor": 0
      },
      "text/plain": [
       "Generating he_anli split:   0%|          | 0/25000 [00:00<?, ? examples/s]"
      ]
     },
     "metadata": {},
     "output_type": "display_data"
    },
    {
     "data": {
      "application/vnd.jupyter.widget-view+json": {
       "model_id": "0aba7012c7e14527932532c3519cc412",
       "version_major": 2,
       "version_minor": 0
      },
      "text/plain": [
       "Generating he_fever split:   0%|          | 0/25000 [00:00<?, ? examples/s]"
      ]
     },
     "metadata": {},
     "output_type": "display_data"
    },
    {
     "data": {
      "application/vnd.jupyter.widget-view+json": {
       "model_id": "5ef1769699084b78ad028d03c862c2cd",
       "version_major": 2,
       "version_minor": 0
      },
      "text/plain": [
       "Generating he_ling split:   0%|          | 0/5000 [00:00<?, ? examples/s]"
      ]
     },
     "metadata": {},
     "output_type": "display_data"
    },
    {
     "data": {
      "application/vnd.jupyter.widget-view+json": {
       "model_id": "fc11ea43a0bb47aabbddb41d4d6dbe95",
       "version_major": 2,
       "version_minor": 0
      },
      "text/plain": [
       "Generating he_mnli split:   0%|          | 0/25000 [00:00<?, ? examples/s]"
      ]
     },
     "metadata": {},
     "output_type": "display_data"
    },
    {
     "data": {
      "application/vnd.jupyter.widget-view+json": {
       "model_id": "ec5887d21ebd463d8a9172ed235458cf",
       "version_major": 2,
       "version_minor": 0
      },
      "text/plain": [
       "Generating he_wanli split:   0%|          | 0/25000 [00:00<?, ? examples/s]"
      ]
     },
     "metadata": {},
     "output_type": "display_data"
    },
    {
     "data": {
      "application/vnd.jupyter.widget-view+json": {
       "model_id": "e19bfd64b72542bcbcde78cf5b180645",
       "version_major": 2,
       "version_minor": 0
      },
      "text/plain": [
       "Generating hi_anli split:   0%|          | 0/25000 [00:00<?, ? examples/s]"
      ]
     },
     "metadata": {},
     "output_type": "display_data"
    },
    {
     "data": {
      "application/vnd.jupyter.widget-view+json": {
       "model_id": "cc4b47cc2d614ab3ac716bd7e1411043",
       "version_major": 2,
       "version_minor": 0
      },
      "text/plain": [
       "Generating hi_fever split:   0%|          | 0/25000 [00:00<?, ? examples/s]"
      ]
     },
     "metadata": {},
     "output_type": "display_data"
    },
    {
     "data": {
      "application/vnd.jupyter.widget-view+json": {
       "model_id": "802a69d96dd44ff8aeec7701e3ed712e",
       "version_major": 2,
       "version_minor": 0
      },
      "text/plain": [
       "Generating hi_ling split:   0%|          | 0/5000 [00:00<?, ? examples/s]"
      ]
     },
     "metadata": {},
     "output_type": "display_data"
    },
    {
     "data": {
      "application/vnd.jupyter.widget-view+json": {
       "model_id": "236118207ac94fbfb0e89885af55b9dc",
       "version_major": 2,
       "version_minor": 0
      },
      "text/plain": [
       "Generating hi_mnli split:   0%|          | 0/25000 [00:00<?, ? examples/s]"
      ]
     },
     "metadata": {},
     "output_type": "display_data"
    },
    {
     "data": {
      "application/vnd.jupyter.widget-view+json": {
       "model_id": "8988790c20514ff5b73996035c1ba91a",
       "version_major": 2,
       "version_minor": 0
      },
      "text/plain": [
       "Generating hi_wanli split:   0%|          | 0/25000 [00:00<?, ? examples/s]"
      ]
     },
     "metadata": {},
     "output_type": "display_data"
    },
    {
     "data": {
      "application/vnd.jupyter.widget-view+json": {
       "model_id": "c40de1b8b228435e87fa479b03eec143",
       "version_major": 2,
       "version_minor": 0
      },
      "text/plain": [
       "Generating id_anli split:   0%|          | 0/25000 [00:00<?, ? examples/s]"
      ]
     },
     "metadata": {},
     "output_type": "display_data"
    },
    {
     "data": {
      "application/vnd.jupyter.widget-view+json": {
       "model_id": "53a4e012b9e74c63a21e7925c9df639f",
       "version_major": 2,
       "version_minor": 0
      },
      "text/plain": [
       "Generating id_fever split:   0%|          | 0/25000 [00:00<?, ? examples/s]"
      ]
     },
     "metadata": {},
     "output_type": "display_data"
    },
    {
     "data": {
      "application/vnd.jupyter.widget-view+json": {
       "model_id": "7b89187b784749b0ad125b99c24e8ec7",
       "version_major": 2,
       "version_minor": 0
      },
      "text/plain": [
       "Generating id_ling split:   0%|          | 0/5000 [00:00<?, ? examples/s]"
      ]
     },
     "metadata": {},
     "output_type": "display_data"
    },
    {
     "data": {
      "application/vnd.jupyter.widget-view+json": {
       "model_id": "2a0e722debd94356b8c010aa84858ab4",
       "version_major": 2,
       "version_minor": 0
      },
      "text/plain": [
       "Generating id_mnli split:   0%|          | 0/25000 [00:00<?, ? examples/s]"
      ]
     },
     "metadata": {},
     "output_type": "display_data"
    },
    {
     "data": {
      "application/vnd.jupyter.widget-view+json": {
       "model_id": "bbc1f28b77534fdba40f73f5ebf1c4be",
       "version_major": 2,
       "version_minor": 0
      },
      "text/plain": [
       "Generating id_wanli split:   0%|          | 0/25000 [00:00<?, ? examples/s]"
      ]
     },
     "metadata": {},
     "output_type": "display_data"
    },
    {
     "data": {
      "application/vnd.jupyter.widget-view+json": {
       "model_id": "4440514c03b0463bb5f683dfbb2f3014",
       "version_major": 2,
       "version_minor": 0
      },
      "text/plain": [
       "Generating it_anli split:   0%|          | 0/25000 [00:00<?, ? examples/s]"
      ]
     },
     "metadata": {},
     "output_type": "display_data"
    },
    {
     "data": {
      "application/vnd.jupyter.widget-view+json": {
       "model_id": "b519acca57e74239bf93290bc6af2501",
       "version_major": 2,
       "version_minor": 0
      },
      "text/plain": [
       "Generating it_fever split:   0%|          | 0/25000 [00:00<?, ? examples/s]"
      ]
     },
     "metadata": {},
     "output_type": "display_data"
    },
    {
     "data": {
      "application/vnd.jupyter.widget-view+json": {
       "model_id": "5d7c189380aa456799f2b28c3a6d825b",
       "version_major": 2,
       "version_minor": 0
      },
      "text/plain": [
       "Generating it_ling split:   0%|          | 0/5000 [00:00<?, ? examples/s]"
      ]
     },
     "metadata": {},
     "output_type": "display_data"
    },
    {
     "data": {
      "application/vnd.jupyter.widget-view+json": {
       "model_id": "6c288090bfdd4f7893848a2200cae78a",
       "version_major": 2,
       "version_minor": 0
      },
      "text/plain": [
       "Generating it_mnli split:   0%|          | 0/25000 [00:00<?, ? examples/s]"
      ]
     },
     "metadata": {},
     "output_type": "display_data"
    },
    {
     "data": {
      "application/vnd.jupyter.widget-view+json": {
       "model_id": "b434f58d6d5c479e9fe1ac8c710b0b5e",
       "version_major": 2,
       "version_minor": 0
      },
      "text/plain": [
       "Generating it_wanli split:   0%|          | 0/25000 [00:00<?, ? examples/s]"
      ]
     },
     "metadata": {},
     "output_type": "display_data"
    },
    {
     "data": {
      "application/vnd.jupyter.widget-view+json": {
       "model_id": "029571dc0a43445fa6fa5d862b82024e",
       "version_major": 2,
       "version_minor": 0
      },
      "text/plain": [
       "Generating ja_anli split:   0%|          | 0/25000 [00:00<?, ? examples/s]"
      ]
     },
     "metadata": {},
     "output_type": "display_data"
    },
    {
     "data": {
      "application/vnd.jupyter.widget-view+json": {
       "model_id": "69db893402b04ccd9cdbb934e19cbe6e",
       "version_major": 2,
       "version_minor": 0
      },
      "text/plain": [
       "Generating ja_fever split:   0%|          | 0/25000 [00:00<?, ? examples/s]"
      ]
     },
     "metadata": {},
     "output_type": "display_data"
    },
    {
     "data": {
      "application/vnd.jupyter.widget-view+json": {
       "model_id": "be313d512e014522bf89c8854a50b021",
       "version_major": 2,
       "version_minor": 0
      },
      "text/plain": [
       "Generating ja_ling split:   0%|          | 0/5000 [00:00<?, ? examples/s]"
      ]
     },
     "metadata": {},
     "output_type": "display_data"
    },
    {
     "data": {
      "application/vnd.jupyter.widget-view+json": {
       "model_id": "fdbe3cbb0e79475ca32975c51801af1a",
       "version_major": 2,
       "version_minor": 0
      },
      "text/plain": [
       "Generating ja_mnli split:   0%|          | 0/25000 [00:00<?, ? examples/s]"
      ]
     },
     "metadata": {},
     "output_type": "display_data"
    },
    {
     "data": {
      "application/vnd.jupyter.widget-view+json": {
       "model_id": "c7bdf821b61c42a1b7ab44a9e2355374",
       "version_major": 2,
       "version_minor": 0
      },
      "text/plain": [
       "Generating ja_wanli split:   0%|          | 0/25000 [00:00<?, ? examples/s]"
      ]
     },
     "metadata": {},
     "output_type": "display_data"
    },
    {
     "data": {
      "application/vnd.jupyter.widget-view+json": {
       "model_id": "52f71055608b416dbcdbc4b1b773c0ed",
       "version_major": 2,
       "version_minor": 0
      },
      "text/plain": [
       "Generating ko_anli split:   0%|          | 0/25000 [00:00<?, ? examples/s]"
      ]
     },
     "metadata": {},
     "output_type": "display_data"
    },
    {
     "data": {
      "application/vnd.jupyter.widget-view+json": {
       "model_id": "01d7a895a3dd4c8d9d99e3562d6b5667",
       "version_major": 2,
       "version_minor": 0
      },
      "text/plain": [
       "Generating ko_fever split:   0%|          | 0/25000 [00:00<?, ? examples/s]"
      ]
     },
     "metadata": {},
     "output_type": "display_data"
    },
    {
     "data": {
      "application/vnd.jupyter.widget-view+json": {
       "model_id": "5fb673234eb94958ab481f395af43797",
       "version_major": 2,
       "version_minor": 0
      },
      "text/plain": [
       "Generating ko_ling split:   0%|          | 0/5000 [00:00<?, ? examples/s]"
      ]
     },
     "metadata": {},
     "output_type": "display_data"
    },
    {
     "data": {
      "application/vnd.jupyter.widget-view+json": {
       "model_id": "15155611fa264ae5b72f00fa6570839f",
       "version_major": 2,
       "version_minor": 0
      },
      "text/plain": [
       "Generating ko_mnli split:   0%|          | 0/25000 [00:00<?, ? examples/s]"
      ]
     },
     "metadata": {},
     "output_type": "display_data"
    },
    {
     "data": {
      "application/vnd.jupyter.widget-view+json": {
       "model_id": "bc81f0f9d8b245889248f11fdc003051",
       "version_major": 2,
       "version_minor": 0
      },
      "text/plain": [
       "Generating ko_wanli split:   0%|          | 0/25000 [00:00<?, ? examples/s]"
      ]
     },
     "metadata": {},
     "output_type": "display_data"
    },
    {
     "data": {
      "application/vnd.jupyter.widget-view+json": {
       "model_id": "be6d6a435d4c4e5cac7f82435b3100da",
       "version_major": 2,
       "version_minor": 0
      },
      "text/plain": [
       "Generating mr_anli split:   0%|          | 0/25000 [00:00<?, ? examples/s]"
      ]
     },
     "metadata": {},
     "output_type": "display_data"
    },
    {
     "data": {
      "application/vnd.jupyter.widget-view+json": {
       "model_id": "33a473a9947a44dea3aa142dbdbf3073",
       "version_major": 2,
       "version_minor": 0
      },
      "text/plain": [
       "Generating mr_fever split:   0%|          | 0/25000 [00:00<?, ? examples/s]"
      ]
     },
     "metadata": {},
     "output_type": "display_data"
    },
    {
     "data": {
      "application/vnd.jupyter.widget-view+json": {
       "model_id": "6cdbfcc8dc5643db81f074d0239233aa",
       "version_major": 2,
       "version_minor": 0
      },
      "text/plain": [
       "Generating mr_ling split:   0%|          | 0/5000 [00:00<?, ? examples/s]"
      ]
     },
     "metadata": {},
     "output_type": "display_data"
    },
    {
     "data": {
      "application/vnd.jupyter.widget-view+json": {
       "model_id": "0bf0cb71c02445fbaa11bd6747dc63ca",
       "version_major": 2,
       "version_minor": 0
      },
      "text/plain": [
       "Generating mr_mnli split:   0%|          | 0/25000 [00:00<?, ? examples/s]"
      ]
     },
     "metadata": {},
     "output_type": "display_data"
    },
    {
     "data": {
      "application/vnd.jupyter.widget-view+json": {
       "model_id": "2275e98c812944fca5016e895d709d94",
       "version_major": 2,
       "version_minor": 0
      },
      "text/plain": [
       "Generating mr_wanli split:   0%|          | 0/25000 [00:00<?, ? examples/s]"
      ]
     },
     "metadata": {},
     "output_type": "display_data"
    },
    {
     "data": {
      "application/vnd.jupyter.widget-view+json": {
       "model_id": "a9c6e9fa22844776ba4d3a4ddc02b0cb",
       "version_major": 2,
       "version_minor": 0
      },
      "text/plain": [
       "Generating nl_anli split:   0%|          | 0/25000 [00:00<?, ? examples/s]"
      ]
     },
     "metadata": {},
     "output_type": "display_data"
    },
    {
     "data": {
      "application/vnd.jupyter.widget-view+json": {
       "model_id": "f4ceef9d24fc45e49adfb283228f2432",
       "version_major": 2,
       "version_minor": 0
      },
      "text/plain": [
       "Generating nl_fever split:   0%|          | 0/25000 [00:00<?, ? examples/s]"
      ]
     },
     "metadata": {},
     "output_type": "display_data"
    },
    {
     "data": {
      "application/vnd.jupyter.widget-view+json": {
       "model_id": "2541d4c9db13417982968abbd7589580",
       "version_major": 2,
       "version_minor": 0
      },
      "text/plain": [
       "Generating nl_ling split:   0%|          | 0/5000 [00:00<?, ? examples/s]"
      ]
     },
     "metadata": {},
     "output_type": "display_data"
    },
    {
     "data": {
      "application/vnd.jupyter.widget-view+json": {
       "model_id": "608dcacc2a3f4760b3b6dd61937c5df2",
       "version_major": 2,
       "version_minor": 0
      },
      "text/plain": [
       "Generating nl_mnli split:   0%|          | 0/25000 [00:00<?, ? examples/s]"
      ]
     },
     "metadata": {},
     "output_type": "display_data"
    },
    {
     "data": {
      "application/vnd.jupyter.widget-view+json": {
       "model_id": "a0860df14c264cef8c943d2e8197e252",
       "version_major": 2,
       "version_minor": 0
      },
      "text/plain": [
       "Generating nl_wanli split:   0%|          | 0/25000 [00:00<?, ? examples/s]"
      ]
     },
     "metadata": {},
     "output_type": "display_data"
    },
    {
     "data": {
      "application/vnd.jupyter.widget-view+json": {
       "model_id": "a697df5dca4543229536298a66bc0b22",
       "version_major": 2,
       "version_minor": 0
      },
      "text/plain": [
       "Generating pl_anli split:   0%|          | 0/25000 [00:00<?, ? examples/s]"
      ]
     },
     "metadata": {},
     "output_type": "display_data"
    },
    {
     "data": {
      "application/vnd.jupyter.widget-view+json": {
       "model_id": "0796980718684a00a95138b343f7982b",
       "version_major": 2,
       "version_minor": 0
      },
      "text/plain": [
       "Generating pl_fever split:   0%|          | 0/25000 [00:00<?, ? examples/s]"
      ]
     },
     "metadata": {},
     "output_type": "display_data"
    },
    {
     "data": {
      "application/vnd.jupyter.widget-view+json": {
       "model_id": "dbb1aa8660154c0e83a656de6629d564",
       "version_major": 2,
       "version_minor": 0
      },
      "text/plain": [
       "Generating pl_ling split:   0%|          | 0/5000 [00:00<?, ? examples/s]"
      ]
     },
     "metadata": {},
     "output_type": "display_data"
    },
    {
     "data": {
      "application/vnd.jupyter.widget-view+json": {
       "model_id": "e4b63b70f5094a7e9eb3a3330a36eeaa",
       "version_major": 2,
       "version_minor": 0
      },
      "text/plain": [
       "Generating pl_mnli split:   0%|          | 0/25000 [00:00<?, ? examples/s]"
      ]
     },
     "metadata": {},
     "output_type": "display_data"
    },
    {
     "data": {
      "application/vnd.jupyter.widget-view+json": {
       "model_id": "d44bc260328c4d02a3d98d4f43e1b011",
       "version_major": 2,
       "version_minor": 0
      },
      "text/plain": [
       "Generating pl_wanli split:   0%|          | 0/25000 [00:00<?, ? examples/s]"
      ]
     },
     "metadata": {},
     "output_type": "display_data"
    },
    {
     "data": {
      "application/vnd.jupyter.widget-view+json": {
       "model_id": "16c41a423ef647fdaf06566634f9f73f",
       "version_major": 2,
       "version_minor": 0
      },
      "text/plain": [
       "Generating ps_anli split:   0%|          | 0/25000 [00:00<?, ? examples/s]"
      ]
     },
     "metadata": {},
     "output_type": "display_data"
    },
    {
     "data": {
      "application/vnd.jupyter.widget-view+json": {
       "model_id": "efbedc78af2745e587a3ddc20304fcca",
       "version_major": 2,
       "version_minor": 0
      },
      "text/plain": [
       "Generating ps_fever split:   0%|          | 0/25000 [00:00<?, ? examples/s]"
      ]
     },
     "metadata": {},
     "output_type": "display_data"
    },
    {
     "data": {
      "application/vnd.jupyter.widget-view+json": {
       "model_id": "bb6a35bcada944498001e5d096476721",
       "version_major": 2,
       "version_minor": 0
      },
      "text/plain": [
       "Generating ps_ling split:   0%|          | 0/5000 [00:00<?, ? examples/s]"
      ]
     },
     "metadata": {},
     "output_type": "display_data"
    },
    {
     "data": {
      "application/vnd.jupyter.widget-view+json": {
       "model_id": "933943333a0e4043bfdd0c94ad457f0c",
       "version_major": 2,
       "version_minor": 0
      },
      "text/plain": [
       "Generating ps_mnli split:   0%|          | 0/25000 [00:00<?, ? examples/s]"
      ]
     },
     "metadata": {},
     "output_type": "display_data"
    },
    {
     "data": {
      "application/vnd.jupyter.widget-view+json": {
       "model_id": "3df34da5c3504138b9fd91febf247454",
       "version_major": 2,
       "version_minor": 0
      },
      "text/plain": [
       "Generating ps_wanli split:   0%|          | 0/25000 [00:00<?, ? examples/s]"
      ]
     },
     "metadata": {},
     "output_type": "display_data"
    },
    {
     "data": {
      "application/vnd.jupyter.widget-view+json": {
       "model_id": "b52a940b2b7a4cc2a20204424fe355b0",
       "version_major": 2,
       "version_minor": 0
      },
      "text/plain": [
       "Generating pt_anli split:   0%|          | 0/25000 [00:00<?, ? examples/s]"
      ]
     },
     "metadata": {},
     "output_type": "display_data"
    },
    {
     "data": {
      "application/vnd.jupyter.widget-view+json": {
       "model_id": "c919c7501cd0431daeb3a8b90628b9d4",
       "version_major": 2,
       "version_minor": 0
      },
      "text/plain": [
       "Generating pt_fever split:   0%|          | 0/25000 [00:00<?, ? examples/s]"
      ]
     },
     "metadata": {},
     "output_type": "display_data"
    },
    {
     "data": {
      "application/vnd.jupyter.widget-view+json": {
       "model_id": "43397ce883a2480ebee30f483371187f",
       "version_major": 2,
       "version_minor": 0
      },
      "text/plain": [
       "Generating pt_ling split:   0%|          | 0/5000 [00:00<?, ? examples/s]"
      ]
     },
     "metadata": {},
     "output_type": "display_data"
    },
    {
     "data": {
      "application/vnd.jupyter.widget-view+json": {
       "model_id": "51aeb372e2604d02a89305d342a7d9d2",
       "version_major": 2,
       "version_minor": 0
      },
      "text/plain": [
       "Generating pt_mnli split:   0%|          | 0/25000 [00:00<?, ? examples/s]"
      ]
     },
     "metadata": {},
     "output_type": "display_data"
    },
    {
     "data": {
      "application/vnd.jupyter.widget-view+json": {
       "model_id": "d9414e6d2f0c4b058a087c3c17c8a438",
       "version_major": 2,
       "version_minor": 0
      },
      "text/plain": [
       "Generating pt_wanli split:   0%|          | 0/25000 [00:00<?, ? examples/s]"
      ]
     },
     "metadata": {},
     "output_type": "display_data"
    },
    {
     "data": {
      "application/vnd.jupyter.widget-view+json": {
       "model_id": "b8cf29cff0fc4c8cb51f8abf90b628b0",
       "version_major": 2,
       "version_minor": 0
      },
      "text/plain": [
       "Generating ru_anli split:   0%|          | 0/25000 [00:00<?, ? examples/s]"
      ]
     },
     "metadata": {},
     "output_type": "display_data"
    },
    {
     "data": {
      "application/vnd.jupyter.widget-view+json": {
       "model_id": "280c51226c2443a588c4b83734c57118",
       "version_major": 2,
       "version_minor": 0
      },
      "text/plain": [
       "Generating ru_fever split:   0%|          | 0/25000 [00:00<?, ? examples/s]"
      ]
     },
     "metadata": {},
     "output_type": "display_data"
    },
    {
     "data": {
      "application/vnd.jupyter.widget-view+json": {
       "model_id": "5372da850a374bea81715ac35faeb605",
       "version_major": 2,
       "version_minor": 0
      },
      "text/plain": [
       "Generating ru_ling split:   0%|          | 0/5000 [00:00<?, ? examples/s]"
      ]
     },
     "metadata": {},
     "output_type": "display_data"
    },
    {
     "data": {
      "application/vnd.jupyter.widget-view+json": {
       "model_id": "63c88e51418842d983af39f743f328c3",
       "version_major": 2,
       "version_minor": 0
      },
      "text/plain": [
       "Generating ru_mnli split:   0%|          | 0/25000 [00:00<?, ? examples/s]"
      ]
     },
     "metadata": {},
     "output_type": "display_data"
    },
    {
     "data": {
      "application/vnd.jupyter.widget-view+json": {
       "model_id": "88cda3998ebf438396c060703fea4576",
       "version_major": 2,
       "version_minor": 0
      },
      "text/plain": [
       "Generating ru_wanli split:   0%|          | 0/25000 [00:00<?, ? examples/s]"
      ]
     },
     "metadata": {},
     "output_type": "display_data"
    },
    {
     "data": {
      "application/vnd.jupyter.widget-view+json": {
       "model_id": "8efba9e465ef463bb1d308d7cc396557",
       "version_major": 2,
       "version_minor": 0
      },
      "text/plain": [
       "Generating sv_anli split:   0%|          | 0/25000 [00:00<?, ? examples/s]"
      ]
     },
     "metadata": {},
     "output_type": "display_data"
    },
    {
     "data": {
      "application/vnd.jupyter.widget-view+json": {
       "model_id": "364540496edd41f09ba1393aabee7e08",
       "version_major": 2,
       "version_minor": 0
      },
      "text/plain": [
       "Generating sv_fever split:   0%|          | 0/25000 [00:00<?, ? examples/s]"
      ]
     },
     "metadata": {},
     "output_type": "display_data"
    },
    {
     "data": {
      "application/vnd.jupyter.widget-view+json": {
       "model_id": "7798b9c272cc4319bd35a02c4b9c1ad0",
       "version_major": 2,
       "version_minor": 0
      },
      "text/plain": [
       "Generating sv_ling split:   0%|          | 0/5000 [00:00<?, ? examples/s]"
      ]
     },
     "metadata": {},
     "output_type": "display_data"
    },
    {
     "data": {
      "application/vnd.jupyter.widget-view+json": {
       "model_id": "6041ca746adc443f951b15472ddd66cf",
       "version_major": 2,
       "version_minor": 0
      },
      "text/plain": [
       "Generating sv_mnli split:   0%|          | 0/25000 [00:00<?, ? examples/s]"
      ]
     },
     "metadata": {},
     "output_type": "display_data"
    },
    {
     "data": {
      "application/vnd.jupyter.widget-view+json": {
       "model_id": "79fa2cd3bdf741b19c2df5a33f425a8b",
       "version_major": 2,
       "version_minor": 0
      },
      "text/plain": [
       "Generating sv_wanli split:   0%|          | 0/25000 [00:00<?, ? examples/s]"
      ]
     },
     "metadata": {},
     "output_type": "display_data"
    },
    {
     "data": {
      "application/vnd.jupyter.widget-view+json": {
       "model_id": "f09642d066584eabad1f30fa5fda5dcd",
       "version_major": 2,
       "version_minor": 0
      },
      "text/plain": [
       "Generating sw_anli split:   0%|          | 0/25000 [00:00<?, ? examples/s]"
      ]
     },
     "metadata": {},
     "output_type": "display_data"
    },
    {
     "data": {
      "application/vnd.jupyter.widget-view+json": {
       "model_id": "bbaefd9c4523458e8e11d82564c8c327",
       "version_major": 2,
       "version_minor": 0
      },
      "text/plain": [
       "Generating sw_fever split:   0%|          | 0/25000 [00:00<?, ? examples/s]"
      ]
     },
     "metadata": {},
     "output_type": "display_data"
    },
    {
     "data": {
      "application/vnd.jupyter.widget-view+json": {
       "model_id": "c6e973391fbe48d8bd13181c7faa14fc",
       "version_major": 2,
       "version_minor": 0
      },
      "text/plain": [
       "Generating sw_ling split:   0%|          | 0/5000 [00:00<?, ? examples/s]"
      ]
     },
     "metadata": {},
     "output_type": "display_data"
    },
    {
     "data": {
      "application/vnd.jupyter.widget-view+json": {
       "model_id": "da1fc3f9beeb456ca1fab207ed33630f",
       "version_major": 2,
       "version_minor": 0
      },
      "text/plain": [
       "Generating sw_mnli split:   0%|          | 0/25000 [00:00<?, ? examples/s]"
      ]
     },
     "metadata": {},
     "output_type": "display_data"
    },
    {
     "data": {
      "application/vnd.jupyter.widget-view+json": {
       "model_id": "932c191965ae4120b9da806fe7579d71",
       "version_major": 2,
       "version_minor": 0
      },
      "text/plain": [
       "Generating sw_wanli split:   0%|          | 0/25000 [00:00<?, ? examples/s]"
      ]
     },
     "metadata": {},
     "output_type": "display_data"
    },
    {
     "data": {
      "application/vnd.jupyter.widget-view+json": {
       "model_id": "2573ff0b799447c3ab06d8522f54abdd",
       "version_major": 2,
       "version_minor": 0
      },
      "text/plain": [
       "Generating ta_anli split:   0%|          | 0/25000 [00:00<?, ? examples/s]"
      ]
     },
     "metadata": {},
     "output_type": "display_data"
    },
    {
     "data": {
      "application/vnd.jupyter.widget-view+json": {
       "model_id": "f42e5d30552244d6aa353832bddc1b3a",
       "version_major": 2,
       "version_minor": 0
      },
      "text/plain": [
       "Generating ta_fever split:   0%|          | 0/25000 [00:00<?, ? examples/s]"
      ]
     },
     "metadata": {},
     "output_type": "display_data"
    },
    {
     "data": {
      "application/vnd.jupyter.widget-view+json": {
       "model_id": "ef9753c2f14c43b9bd3aeb4268c1362f",
       "version_major": 2,
       "version_minor": 0
      },
      "text/plain": [
       "Generating ta_ling split:   0%|          | 0/5000 [00:00<?, ? examples/s]"
      ]
     },
     "metadata": {},
     "output_type": "display_data"
    },
    {
     "data": {
      "application/vnd.jupyter.widget-view+json": {
       "model_id": "bff4527571ec4628b1cb27136a9a6ae2",
       "version_major": 2,
       "version_minor": 0
      },
      "text/plain": [
       "Generating ta_mnli split:   0%|          | 0/25000 [00:00<?, ? examples/s]"
      ]
     },
     "metadata": {},
     "output_type": "display_data"
    },
    {
     "data": {
      "application/vnd.jupyter.widget-view+json": {
       "model_id": "ff39109264b54cd28a9f74dc7c8442b7",
       "version_major": 2,
       "version_minor": 0
      },
      "text/plain": [
       "Generating ta_wanli split:   0%|          | 0/25000 [00:00<?, ? examples/s]"
      ]
     },
     "metadata": {},
     "output_type": "display_data"
    },
    {
     "data": {
      "application/vnd.jupyter.widget-view+json": {
       "model_id": "0fe27b866abe4117a51579e43a98630c",
       "version_major": 2,
       "version_minor": 0
      },
      "text/plain": [
       "Generating tr_anli split:   0%|          | 0/25000 [00:00<?, ? examples/s]"
      ]
     },
     "metadata": {},
     "output_type": "display_data"
    },
    {
     "data": {
      "application/vnd.jupyter.widget-view+json": {
       "model_id": "707e624f9dde420983e201cf35f1be4d",
       "version_major": 2,
       "version_minor": 0
      },
      "text/plain": [
       "Generating tr_fever split:   0%|          | 0/25000 [00:00<?, ? examples/s]"
      ]
     },
     "metadata": {},
     "output_type": "display_data"
    },
    {
     "data": {
      "application/vnd.jupyter.widget-view+json": {
       "model_id": "ee189309030a4eaca43ce781cf019f7b",
       "version_major": 2,
       "version_minor": 0
      },
      "text/plain": [
       "Generating tr_ling split:   0%|          | 0/5000 [00:00<?, ? examples/s]"
      ]
     },
     "metadata": {},
     "output_type": "display_data"
    },
    {
     "data": {
      "application/vnd.jupyter.widget-view+json": {
       "model_id": "8310df592bb04948ab986c1a91e561dc",
       "version_major": 2,
       "version_minor": 0
      },
      "text/plain": [
       "Generating tr_mnli split:   0%|          | 0/25000 [00:00<?, ? examples/s]"
      ]
     },
     "metadata": {},
     "output_type": "display_data"
    },
    {
     "data": {
      "application/vnd.jupyter.widget-view+json": {
       "model_id": "613869bd136f42bf8726903a615a174b",
       "version_major": 2,
       "version_minor": 0
      },
      "text/plain": [
       "Generating tr_wanli split:   0%|          | 0/25000 [00:00<?, ? examples/s]"
      ]
     },
     "metadata": {},
     "output_type": "display_data"
    },
    {
     "data": {
      "application/vnd.jupyter.widget-view+json": {
       "model_id": "cfb3c5351fc04f1a9f6adce15d579c99",
       "version_major": 2,
       "version_minor": 0
      },
      "text/plain": [
       "Generating uk_anli split:   0%|          | 0/25000 [00:00<?, ? examples/s]"
      ]
     },
     "metadata": {},
     "output_type": "display_data"
    },
    {
     "data": {
      "application/vnd.jupyter.widget-view+json": {
       "model_id": "6ea96c46ee074da09955c893569d0c2e",
       "version_major": 2,
       "version_minor": 0
      },
      "text/plain": [
       "Generating uk_fever split:   0%|          | 0/25000 [00:00<?, ? examples/s]"
      ]
     },
     "metadata": {},
     "output_type": "display_data"
    },
    {
     "data": {
      "application/vnd.jupyter.widget-view+json": {
       "model_id": "a68e4b97ba7f4272b32f11955f687dcc",
       "version_major": 2,
       "version_minor": 0
      },
      "text/plain": [
       "Generating uk_ling split:   0%|          | 0/5000 [00:00<?, ? examples/s]"
      ]
     },
     "metadata": {},
     "output_type": "display_data"
    },
    {
     "data": {
      "application/vnd.jupyter.widget-view+json": {
       "model_id": "6311f4462cf042459d0783e9d20bf333",
       "version_major": 2,
       "version_minor": 0
      },
      "text/plain": [
       "Generating uk_mnli split:   0%|          | 0/25000 [00:00<?, ? examples/s]"
      ]
     },
     "metadata": {},
     "output_type": "display_data"
    },
    {
     "data": {
      "application/vnd.jupyter.widget-view+json": {
       "model_id": "aaf2a537eb564136afadad8204df2bed",
       "version_major": 2,
       "version_minor": 0
      },
      "text/plain": [
       "Generating uk_wanli split:   0%|          | 0/25000 [00:00<?, ? examples/s]"
      ]
     },
     "metadata": {},
     "output_type": "display_data"
    },
    {
     "data": {
      "application/vnd.jupyter.widget-view+json": {
       "model_id": "c12a09cf42364bfab33949f9f2f852d8",
       "version_major": 2,
       "version_minor": 0
      },
      "text/plain": [
       "Generating ur_anli split:   0%|          | 0/25000 [00:00<?, ? examples/s]"
      ]
     },
     "metadata": {},
     "output_type": "display_data"
    },
    {
     "data": {
      "application/vnd.jupyter.widget-view+json": {
       "model_id": "9be9dda7395b4da79bc00eaae680884d",
       "version_major": 2,
       "version_minor": 0
      },
      "text/plain": [
       "Generating ur_fever split:   0%|          | 0/25000 [00:00<?, ? examples/s]"
      ]
     },
     "metadata": {},
     "output_type": "display_data"
    },
    {
     "data": {
      "application/vnd.jupyter.widget-view+json": {
       "model_id": "37984f0a065747d9a823278bebb89b40",
       "version_major": 2,
       "version_minor": 0
      },
      "text/plain": [
       "Generating ur_ling split:   0%|          | 0/5000 [00:00<?, ? examples/s]"
      ]
     },
     "metadata": {},
     "output_type": "display_data"
    },
    {
     "data": {
      "application/vnd.jupyter.widget-view+json": {
       "model_id": "f3545c26ae5e4221b6e9c8062d1f3f87",
       "version_major": 2,
       "version_minor": 0
      },
      "text/plain": [
       "Generating ur_mnli split:   0%|          | 0/25000 [00:00<?, ? examples/s]"
      ]
     },
     "metadata": {},
     "output_type": "display_data"
    },
    {
     "data": {
      "application/vnd.jupyter.widget-view+json": {
       "model_id": "4e22fb26d9a743d0900c596dbbc26032",
       "version_major": 2,
       "version_minor": 0
      },
      "text/plain": [
       "Generating ur_wanli split:   0%|          | 0/25000 [00:00<?, ? examples/s]"
      ]
     },
     "metadata": {},
     "output_type": "display_data"
    },
    {
     "data": {
      "application/vnd.jupyter.widget-view+json": {
       "model_id": "df6404abb16d4c2abf5d97ccd8eddd18",
       "version_major": 2,
       "version_minor": 0
      },
      "text/plain": [
       "Generating vi_anli split:   0%|          | 0/25000 [00:00<?, ? examples/s]"
      ]
     },
     "metadata": {},
     "output_type": "display_data"
    },
    {
     "data": {
      "application/vnd.jupyter.widget-view+json": {
       "model_id": "12b1353d06c241f4904bc8830f695714",
       "version_major": 2,
       "version_minor": 0
      },
      "text/plain": [
       "Generating vi_fever split:   0%|          | 0/25000 [00:00<?, ? examples/s]"
      ]
     },
     "metadata": {},
     "output_type": "display_data"
    },
    {
     "data": {
      "application/vnd.jupyter.widget-view+json": {
       "model_id": "6314ba3172f546b7b998e9029bc18b40",
       "version_major": 2,
       "version_minor": 0
      },
      "text/plain": [
       "Generating vi_ling split:   0%|          | 0/5000 [00:00<?, ? examples/s]"
      ]
     },
     "metadata": {},
     "output_type": "display_data"
    },
    {
     "data": {
      "application/vnd.jupyter.widget-view+json": {
       "model_id": "98940c99100e40b48a7d70478b1f2ddb",
       "version_major": 2,
       "version_minor": 0
      },
      "text/plain": [
       "Generating vi_mnli split:   0%|          | 0/25000 [00:00<?, ? examples/s]"
      ]
     },
     "metadata": {},
     "output_type": "display_data"
    },
    {
     "data": {
      "application/vnd.jupyter.widget-view+json": {
       "model_id": "f9c610365e354413a66c579b90972296",
       "version_major": 2,
       "version_minor": 0
      },
      "text/plain": [
       "Generating vi_wanli split:   0%|          | 0/25000 [00:00<?, ? examples/s]"
      ]
     },
     "metadata": {},
     "output_type": "display_data"
    },
    {
     "data": {
      "application/vnd.jupyter.widget-view+json": {
       "model_id": "a094a971e9384fccaa982cda63efd5c1",
       "version_major": 2,
       "version_minor": 0
      },
      "text/plain": [
       "Generating zh_anli split:   0%|          | 0/25000 [00:00<?, ? examples/s]"
      ]
     },
     "metadata": {},
     "output_type": "display_data"
    },
    {
     "data": {
      "application/vnd.jupyter.widget-view+json": {
       "model_id": "fa7cd60efb084519b84eae2c6eecd4b8",
       "version_major": 2,
       "version_minor": 0
      },
      "text/plain": [
       "Generating zh_fever split:   0%|          | 0/25000 [00:00<?, ? examples/s]"
      ]
     },
     "metadata": {},
     "output_type": "display_data"
    },
    {
     "data": {
      "application/vnd.jupyter.widget-view+json": {
       "model_id": "6dc62520517a438c83607afc0bc04e30",
       "version_major": 2,
       "version_minor": 0
      },
      "text/plain": [
       "Generating zh_ling split:   0%|          | 0/5000 [00:00<?, ? examples/s]"
      ]
     },
     "metadata": {},
     "output_type": "display_data"
    },
    {
     "data": {
      "application/vnd.jupyter.widget-view+json": {
       "model_id": "002cc80d10ec46988424dc78a0f18eae",
       "version_major": 2,
       "version_minor": 0
      },
      "text/plain": [
       "Generating zh_mnli split:   0%|          | 0/25000 [00:00<?, ? examples/s]"
      ]
     },
     "metadata": {},
     "output_type": "display_data"
    },
    {
     "data": {
      "application/vnd.jupyter.widget-view+json": {
       "model_id": "392bb8fcf5084a1cb4b06ae5cd8ae1d5",
       "version_major": 2,
       "version_minor": 0
      },
      "text/plain": [
       "Generating zh_wanli split:   0%|          | 0/25000 [00:00<?, ? examples/s]"
      ]
     },
     "metadata": {},
     "output_type": "display_data"
    },
    {
     "name": "stdout",
     "output_type": "stream",
     "text": [
      "Found 130 splits. Example splits: ['ar_anli', 'ar_fever', 'ar_ling', 'ar_mnli', 'ar_wanli', 'bn_anli', 'bn_fever', 'bn_ling', 'bn_mnli', 'bn_wanli', 'de_anli', 'de_fever']\n",
      "ar: 5 splits\n",
      "bg: 0 splits\n",
      "zh: 5 splits\n",
      "de: 5 splits\n",
      "el: 0 splits\n",
      "en: 0 splits\n",
      "es: 5 splits\n",
      "fr: 5 splits\n",
      "hi: 5 splits\n",
      "ru: 5 splits\n",
      "sw: 5 splits\n",
      "th: 0 splits\n",
      "tr: 5 splits\n",
      "ur: 5 splits\n",
      "vi: 5 splits\n"
     ]
    },
    {
     "name": "stderr",
     "output_type": "stream",
     "text": [
      "Languages:   7%|▋         | 1/15 [00:01<00:14,  1.02s/it]"
     ]
    },
    {
     "name": "stdout",
     "output_type": "stream",
     "text": [
      "Sampled 10000 examples for language ar\n",
      "Warning: no splits found for language bg, skipping.\n"
     ]
    },
    {
     "name": "stderr",
     "output_type": "stream",
     "text": [
      "Languages:  20%|██        | 3/15 [00:02<00:07,  1.58it/s]"
     ]
    },
    {
     "name": "stdout",
     "output_type": "stream",
     "text": [
      "Sampled 10000 examples for language zh\n"
     ]
    },
    {
     "name": "stderr",
     "output_type": "stream",
     "text": [
      "Languages:  27%|██▋       | 4/15 [00:03<00:08,  1.32it/s]"
     ]
    },
    {
     "name": "stdout",
     "output_type": "stream",
     "text": [
      "Sampled 10000 examples for language de\n",
      "Warning: no splits found for language el, skipping.\n",
      "Warning: no splits found for language en, skipping.\n"
     ]
    },
    {
     "name": "stderr",
     "output_type": "stream",
     "text": [
      "Languages:  47%|████▋     | 7/15 [00:04<00:04,  1.99it/s]"
     ]
    },
    {
     "name": "stdout",
     "output_type": "stream",
     "text": [
      "Sampled 10000 examples for language es\n"
     ]
    },
    {
     "name": "stderr",
     "output_type": "stream",
     "text": [
      "Languages:  53%|█████▎    | 8/15 [00:05<00:04,  1.52it/s]"
     ]
    },
    {
     "name": "stdout",
     "output_type": "stream",
     "text": [
      "Sampled 10000 examples for language fr\n"
     ]
    },
    {
     "name": "stderr",
     "output_type": "stream",
     "text": [
      "Languages:  60%|██████    | 9/15 [00:06<00:05,  1.16it/s]"
     ]
    },
    {
     "name": "stdout",
     "output_type": "stream",
     "text": [
      "Sampled 10000 examples for language hi\n"
     ]
    },
    {
     "name": "stderr",
     "output_type": "stream",
     "text": [
      "Languages:  67%|██████▋   | 10/15 [00:07<00:04,  1.11it/s]"
     ]
    },
    {
     "name": "stdout",
     "output_type": "stream",
     "text": [
      "Sampled 10000 examples for language ru\n"
     ]
    },
    {
     "name": "stderr",
     "output_type": "stream",
     "text": [
      "Languages:  73%|███████▎  | 11/15 [00:08<00:03,  1.09it/s]"
     ]
    },
    {
     "name": "stdout",
     "output_type": "stream",
     "text": [
      "Sampled 10000 examples for language sw\n",
      "Warning: no splits found for language th, skipping.\n"
     ]
    },
    {
     "name": "stderr",
     "output_type": "stream",
     "text": [
      "Languages:  87%|████████▋ | 13/15 [00:09<00:01,  1.33it/s]"
     ]
    },
    {
     "name": "stdout",
     "output_type": "stream",
     "text": [
      "Sampled 10000 examples for language tr\n"
     ]
    },
    {
     "name": "stderr",
     "output_type": "stream",
     "text": [
      "Languages:  93%|█████████▎| 14/15 [00:10<00:00,  1.20it/s]"
     ]
    },
    {
     "name": "stdout",
     "output_type": "stream",
     "text": [
      "Sampled 10000 examples for language ur\n"
     ]
    },
    {
     "name": "stderr",
     "output_type": "stream",
     "text": [
      "Languages: 100%|██████████| 15/15 [00:11<00:00,  1.25it/s]\n"
     ]
    },
    {
     "name": "stdout",
     "output_type": "stream",
     "text": [
      "Sampled 10000 examples for language vi\n",
      "\n",
      "Total combined samples: 110000\n"
     ]
    },
    {
     "name": "stderr",
     "output_type": "stream",
     "text": [
      "Tokenizing texts: 100%|██████████| 176000/176000 [00:06<00:00, 28778.35it/s]\n"
     ]
    },
    {
     "name": "stdout",
     "output_type": "stream",
     "text": [
      "Training Word2Vec model on multilingual corpus ...\n",
      "Vocab size: 129502\n",
      "Embedding matrix shape: (129502, 100)\n"
     ]
    }
   ],
   "source": [
    "from datasets import load_dataset, concatenate_datasets\n",
    "import pandas as pd\n",
    "\n",
    "target_langs = [\"ar\", \"bg\", \"zh\", \"de\", \"el\", \"en\", \"es\", \"fr\",\n",
    "                \"hi\", \"ru\", \"sw\", \"th\", \"tr\", \"ur\", \"vi\"]\n",
    "\n",
    "samples_per_lang = 10000\n",
    "dataset_name = \"MoritzLaurer/multilingual-NLI-26lang-2mil7\"\n",
    "\n",
    "print(\"Loading dataset metadata / available splits ...\")\n",
    "ds_dict = load_dataset(dataset_name)\n",
    "available_splits = list(ds_dict.keys())\n",
    "print(f\"Found {len(available_splits)} splits. Example splits: {available_splits[:12]}\")\n",
    "\n",
    "lang_to_splits = {}\n",
    "for lang in target_langs:\n",
    "    pref = f\"{lang}_\"\n",
    "    matches = [s for s in available_splits if s.startswith(pref)]\n",
    "    if lang in available_splits:\n",
    "        matches.append(lang)\n",
    "    lang_to_splits[lang] = matches\n",
    "    print(f\"{lang}: {len(matches)} splits\")\n",
    "\n",
    "all_lang_frames = []\n",
    "for lang in tqdm(target_langs, desc=\"Languages\"):\n",
    "    splits = lang_to_splits.get(lang, [])\n",
    "    if not splits:\n",
    "        print(f\"Warning: no splits found for language {lang}, skipping.\")\n",
    "        continue\n",
    "\n",
    "    lang_datasets = []\n",
    "    for s in splits:\n",
    "        ds_split = ds_dict[s]\n",
    "        lang_datasets.append(ds_split)\n",
    "\n",
    "    if len(lang_datasets) == 1:\n",
    "        lang_ds = lang_datasets[0]\n",
    "    else:\n",
    "        lang_ds = concatenate_datasets(lang_datasets)\n",
    "\n",
    "    lang_ds_shuffled = lang_ds.shuffle(seed=42)\n",
    "    take_n = min(samples_per_lang, len(lang_ds_shuffled))\n",
    "    if take_n == 0:\n",
    "        print(f\"Warning: {lang} has 0 examples after merging splits.\")\n",
    "        continue\n",
    "    lang_sampled = lang_ds_shuffled.select(range(take_n))\n",
    "\n",
    "    df_lang = pd.DataFrame(lang_sampled)\n",
    "    # must contain:（premise, hypothesis, label, language）\n",
    "    expected_cols = [\"premise\", \"hypothesis\", \"label\", \"language\"]\n",
    "    have_cols = [c for c in expected_cols if c in df_lang.columns]\n",
    "    df_lang = df_lang[have_cols]\n",
    "    df_lang[\"source_lang\"] = lang  \n",
    "    all_lang_frames.append(df_lang)\n",
    "\n",
    "    print(f\"Sampled {len(df_lang)} examples for language {lang}\")\n",
    "\n",
    "if all_lang_frames:\n",
    "    df_all = pd.concat(all_lang_frames, ignore_index=True)\n",
    "    df_all = df_all.sample(frac=1, random_state=42).reset_index(drop=True)\n",
    "    print(f\"\\nTotal combined samples: {len(df_all)}\")\n",
    "else:\n",
    "    df_all = pd.DataFrame()\n",
    "    print(\"No samples collected.\")\n",
    "\n",
    "df_x = df_all\n",
    "\n",
    "df_x[\"label\"] = df_x[\"label\"].astype(int)\n",
    "train_df_x = df_x.sample(frac=0.8, random_state=42)\n",
    "val_df_x = df_x.drop(train_df_x.index)\n",
    "\n",
    "processor_x = NLIProcessor(embed_dim=100)\n",
    "# !!!!!!!!!!!\n",
    "processor_x.build_vocab(train_df_x[\"premise\"].tolist() + train_df_x[\"hypothesis\"].tolist())\n",
    "\n",
    "train_dataset_x = NLIDataset(train_df_x, processor_x)\n",
    "val_dataset_x = NLIDataset(val_df_x, processor_x)\n",
    "\n",
    "train_loader_x = DataLoader(train_dataset_x, batch_size=256, shuffle=True)\n",
    "val_loader_x = DataLoader(val_dataset_x, batch_size=256)\n",
    "\n",
    "device = torch.device(\"cuda\" if torch.cuda.is_available() else \"cpu\")"
   ]
  },
  {
   "cell_type": "code",
   "execution_count": 4,
   "metadata": {
    "execution": {
     "iopub.execute_input": "2025-10-19T13:22:37.397256Z",
     "iopub.status.busy": "2025-10-19T13:22:37.396792Z",
     "iopub.status.idle": "2025-10-19T13:22:37.416346Z",
     "shell.execute_reply": "2025-10-19T13:22:37.415431Z",
     "shell.execute_reply.started": "2025-10-19T13:22:37.397233Z"
    },
    "trusted": true
   },
   "outputs": [],
   "source": [
    "class LSTMModel(nn.Module):\n",
    "    def __init__(self, embed_matrix, hidden=128, num_classes=3):\n",
    "        super().__init__()\n",
    "        vocab_size, embed_dim = embed_matrix.shape\n",
    "        self.embedding = nn.Embedding.from_pretrained(torch.tensor(embed_matrix, dtype=torch.float32), freeze=False)\n",
    "        self.lstm = nn.LSTM(embed_dim, hidden, batch_first=True, bidirectional=True)\n",
    "        self.fc = nn.Linear(hidden * 8, num_classes)\n",
    "\n",
    "    def encode(self, x):\n",
    "        x = self.embedding(x)\n",
    "        _, (h, _) = self.lstm(x)\n",
    "        return torch.cat((h[0], h[1]), dim=1)\n",
    "\n",
    "    def forward(self, a, b):\n",
    "        va, vb = self.encode(a), self.encode(b)\n",
    "        v = torch.cat([va, vb, torch.abs(va - vb), va * vb], dim=1)\n",
    "        return self.fc(v)"
   ]
  },
  {
   "cell_type": "code",
   "execution_count": 5,
   "metadata": {
    "execution": {
     "iopub.execute_input": "2025-10-19T13:22:49.989380Z",
     "iopub.status.busy": "2025-10-19T13:22:49.989103Z",
     "iopub.status.idle": "2025-10-19T13:25:59.514044Z",
     "shell.execute_reply": "2025-10-19T13:25:59.513398Z",
     "shell.execute_reply.started": "2025-10-19T13:22:49.989356Z"
    },
    "trusted": true
   },
   "outputs": [
    {
     "name": "stdout",
     "output_type": "stream",
     "text": [
      "\n",
      "=== pre-Training LSTM ===\n"
     ]
    },
    {
     "name": "stderr",
     "output_type": "stream",
     "text": [
      "Train Epoch 1: 100%|██████████| 344/344 [00:16<00:00, 20.45it/s]\n"
     ]
    },
    {
     "name": "stdout",
     "output_type": "stream",
     "text": [
      "Epoch 1: Train Acc=0.4327, Val Acc=0.4469\n"
     ]
    },
    {
     "name": "stderr",
     "output_type": "stream",
     "text": [
      "Train Epoch 2: 100%|██████████| 344/344 [00:15<00:00, 22.29it/s]\n"
     ]
    },
    {
     "name": "stdout",
     "output_type": "stream",
     "text": [
      "Epoch 2: Train Acc=0.5234, Val Acc=0.4834\n"
     ]
    },
    {
     "name": "stderr",
     "output_type": "stream",
     "text": [
      "Train Epoch 3: 100%|██████████| 344/344 [00:15<00:00, 22.34it/s]\n"
     ]
    },
    {
     "name": "stdout",
     "output_type": "stream",
     "text": [
      "Epoch 3: Train Acc=0.6797, Val Acc=0.4695\n"
     ]
    },
    {
     "name": "stderr",
     "output_type": "stream",
     "text": [
      "Train Epoch 4: 100%|██████████| 344/344 [00:15<00:00, 22.03it/s]\n"
     ]
    },
    {
     "name": "stdout",
     "output_type": "stream",
     "text": [
      "Epoch 4: Train Acc=0.8153, Val Acc=0.4572\n"
     ]
    },
    {
     "name": "stderr",
     "output_type": "stream",
     "text": [
      "Train Epoch 5: 100%|██████████| 344/344 [00:15<00:00, 22.00it/s]\n"
     ]
    },
    {
     "name": "stdout",
     "output_type": "stream",
     "text": [
      "Epoch 5: Train Acc=0.8834, Val Acc=0.4466\n"
     ]
    },
    {
     "name": "stderr",
     "output_type": "stream",
     "text": [
      "Train Epoch 6: 100%|██████████| 344/344 [00:15<00:00, 22.12it/s]\n"
     ]
    },
    {
     "name": "stdout",
     "output_type": "stream",
     "text": [
      "Epoch 6: Train Acc=0.9185, Val Acc=0.4480\n"
     ]
    },
    {
     "name": "stderr",
     "output_type": "stream",
     "text": [
      "Train Epoch 7: 100%|██████████| 344/344 [00:15<00:00, 21.90it/s]\n"
     ]
    },
    {
     "name": "stdout",
     "output_type": "stream",
     "text": [
      "Epoch 7: Train Acc=0.9391, Val Acc=0.4434\n"
     ]
    },
    {
     "name": "stderr",
     "output_type": "stream",
     "text": [
      "Train Epoch 8: 100%|██████████| 344/344 [00:16<00:00, 21.32it/s]\n"
     ]
    },
    {
     "name": "stdout",
     "output_type": "stream",
     "text": [
      "Epoch 8: Train Acc=0.9534, Val Acc=0.4446\n"
     ]
    },
    {
     "name": "stderr",
     "output_type": "stream",
     "text": [
      "Train Epoch 9: 100%|██████████| 344/344 [00:15<00:00, 21.73it/s]\n"
     ]
    },
    {
     "name": "stdout",
     "output_type": "stream",
     "text": [
      "Epoch 9: Train Acc=0.9639, Val Acc=0.4386\n"
     ]
    },
    {
     "name": "stderr",
     "output_type": "stream",
     "text": [
      "Train Epoch 10: 100%|██████████| 344/344 [00:15<00:00, 21.78it/s]\n"
     ]
    },
    {
     "name": "stdout",
     "output_type": "stream",
     "text": [
      "Epoch 10: Train Acc=0.9709, Val Acc=0.4397\n",
      "[0.43273863636363635, 0.5233522727272727, 0.67975, 0.8152727272727273, 0.8833863636363637, 0.9184772727272728, 0.939125, 0.9533636363636364, 0.9638863636363636, 0.9709090909090909]\n",
      "[0.44686363636363635, 0.4833636363636364, 0.4695, 0.4572272727272727, 0.4465909090909091, 0.44795454545454544, 0.4434090909090909, 0.4445909090909091, 0.4385909090909091, 0.4396818181818182]\n"
     ]
    }
   ],
   "source": [
    "print(f\"\\n=== pre-Training LSTM ===\")\n",
    "model = LSTMModel(processor_x.embeddings).to(device)\n",
    "optimizer = optim.Adam(model.parameters(), lr=1e-3)\n",
    "criterion = nn.CrossEntropyLoss()\n",
    "train_acc, val_acc = train_model(model, train_loader_x, val_loader_x, criterion, optimizer, device, epochs=10)\n",
    "print(train_acc)\n",
    "print(val_acc)"
   ]
  },
  {
   "cell_type": "code",
   "execution_count": 7,
   "metadata": {
    "execution": {
     "iopub.execute_input": "2025-10-19T13:27:44.625229Z",
     "iopub.status.busy": "2025-10-19T13:27:44.624641Z",
     "iopub.status.idle": "2025-10-19T13:28:10.179819Z",
     "shell.execute_reply": "2025-10-19T13:28:10.179001Z",
     "shell.execute_reply.started": "2025-10-19T13:27:44.625206Z"
    },
    "trusted": true
   },
   "outputs": [
    {
     "name": "stdout",
     "output_type": "stream",
     "text": [
      "\n",
      "=== fine-tuning LSTM ===\n"
     ]
    },
    {
     "name": "stderr",
     "output_type": "stream",
     "text": [
      "Train Epoch 1: 100%|██████████| 152/152 [00:02<00:00, 64.52it/s]\n"
     ]
    },
    {
     "name": "stdout",
     "output_type": "stream",
     "text": [
      "Epoch 1: Train Acc=0.4479, Val Acc=0.3866\n"
     ]
    },
    {
     "name": "stderr",
     "output_type": "stream",
     "text": [
      "Train Epoch 2: 100%|██████████| 152/152 [00:02<00:00, 67.39it/s]\n"
     ]
    },
    {
     "name": "stdout",
     "output_type": "stream",
     "text": [
      "Epoch 2: Train Acc=0.5814, Val Acc=0.3647\n"
     ]
    },
    {
     "name": "stderr",
     "output_type": "stream",
     "text": [
      "Train Epoch 3: 100%|██████████| 152/152 [00:02<00:00, 67.50it/s]\n"
     ]
    },
    {
     "name": "stdout",
     "output_type": "stream",
     "text": [
      "Epoch 3: Train Acc=0.7282, Val Acc=0.3568\n"
     ]
    },
    {
     "name": "stderr",
     "output_type": "stream",
     "text": [
      "Train Epoch 4: 100%|██████████| 152/152 [00:02<00:00, 68.08it/s]\n"
     ]
    },
    {
     "name": "stdout",
     "output_type": "stream",
     "text": [
      "Epoch 4: Train Acc=0.8514, Val Acc=0.3432\n"
     ]
    },
    {
     "name": "stderr",
     "output_type": "stream",
     "text": [
      "Train Epoch 5: 100%|██████████| 152/152 [00:02<00:00, 65.85it/s]\n"
     ]
    },
    {
     "name": "stdout",
     "output_type": "stream",
     "text": [
      "Epoch 5: Train Acc=0.9186, Val Acc=0.3321\n"
     ]
    },
    {
     "name": "stderr",
     "output_type": "stream",
     "text": [
      "Train Epoch 6: 100%|██████████| 152/152 [00:02<00:00, 66.64it/s]\n"
     ]
    },
    {
     "name": "stdout",
     "output_type": "stream",
     "text": [
      "Epoch 6: Train Acc=0.9533, Val Acc=0.3474\n"
     ]
    },
    {
     "name": "stderr",
     "output_type": "stream",
     "text": [
      "Train Epoch 7: 100%|██████████| 152/152 [00:02<00:00, 67.39it/s]\n"
     ]
    },
    {
     "name": "stdout",
     "output_type": "stream",
     "text": [
      "Epoch 7: Train Acc=0.9749, Val Acc=0.3428\n"
     ]
    },
    {
     "name": "stderr",
     "output_type": "stream",
     "text": [
      "Train Epoch 8: 100%|██████████| 152/152 [00:02<00:00, 67.44it/s]\n"
     ]
    },
    {
     "name": "stdout",
     "output_type": "stream",
     "text": [
      "Epoch 8: Train Acc=0.9850, Val Acc=0.3568\n"
     ]
    },
    {
     "name": "stderr",
     "output_type": "stream",
     "text": [
      "Train Epoch 9: 100%|██████████| 152/152 [00:02<00:00, 67.43it/s]\n"
     ]
    },
    {
     "name": "stdout",
     "output_type": "stream",
     "text": [
      "Epoch 9: Train Acc=0.9916, Val Acc=0.3585\n"
     ]
    },
    {
     "name": "stderr",
     "output_type": "stream",
     "text": [
      "Train Epoch 10: 100%|██████████| 152/152 [00:02<00:00, 67.09it/s]\n"
     ]
    },
    {
     "name": "stdout",
     "output_type": "stream",
     "text": [
      "Epoch 10: Train Acc=0.9947, Val Acc=0.3412\n",
      "[0.4479166666666667, 0.5813737623762376, 0.7282384488448845, 0.8513820132013201, 0.9186262376237624, 0.9532797029702971, 0.9749381188118812, 0.9850453795379538, 0.9916460396039604, 0.994740099009901]\n",
      "[0.3865511551155115, 0.36468646864686466, 0.35684818481848185, 0.3432343234323432, 0.3320957095709571, 0.34735973597359737, 0.34282178217821785, 0.35684818481848185, 0.3584983498349835, 0.3411716171617162]\n"
     ]
    },
    {
     "data": {
      "image/png": "[encoded data removed]",
      "text/plain": [
       "<Figure size 640x480 with 1 Axes>"
      ]
     },
     "metadata": {},
     "output_type": "display_data"
    }
   ],
   "source": [
    "print(f\"\\n=== fine-tuning LSTM ===\")\n",
    "optimizer = optim.Adam(model.parameters(), lr=1e-3)\n",
    "train_acc, val_acc = train_model(model, train_loader, val_loader, criterion, optimizer, device, epochs=10)\n",
    "print(train_acc)\n",
    "print(val_acc)\n",
    "plot(train_acc, val_acc)"
   ]
  },
  {
   "cell_type": "code",
   "execution_count": 9,
   "metadata": {
    "execution": {
     "iopub.execute_input": "2025-10-19T13:35:05.984455Z",
     "iopub.status.busy": "2025-10-19T13:35:05.983513Z",
     "iopub.status.idle": "2025-10-19T13:35:05.993436Z",
     "shell.execute_reply": "2025-10-19T13:35:05.992470Z",
     "shell.execute_reply.started": "2025-10-19T13:35:05.984411Z"
    },
    "trusted": true
   },
   "outputs": [],
   "source": [
    "class CNNModel(nn.Module):\n",
    "    def __init__(self, embed_matrix, num_classes=3):\n",
    "        super().__init__()\n",
    "        vocab_size, embed_dim = embed_matrix.shape\n",
    "        self.embedding = nn.Embedding.from_pretrained(torch.tensor(embed_matrix, dtype=torch.float32), freeze=False)\n",
    "        self.conv = nn.Conv1d(embed_dim, 128, kernel_size=3, padding=1)\n",
    "        self.pool = nn.AdaptiveMaxPool1d(1)\n",
    "        self.fc = nn.Linear(128 * 4, num_classes)\n",
    "\n",
    "    def encode(self, x):\n",
    "        x = self.embedding(x).permute(0, 2, 1)\n",
    "        x = torch.relu(self.conv(x))\n",
    "        x = self.pool(x).squeeze(-1)\n",
    "        return x\n",
    "\n",
    "    def forward(self, a, b):\n",
    "        va, vb = self.encode(a), self.encode(b)\n",
    "        v = torch.cat([va, vb, torch.abs(va - vb), va * vb], dim=1)\n",
    "        return self.fc(v)"
   ]
  },
  {
   "cell_type": "code",
   "execution_count": 10,
   "metadata": {
    "execution": {
     "iopub.execute_input": "2025-10-19T13:35:44.299640Z",
     "iopub.status.busy": "2025-10-19T13:35:44.298861Z",
     "iopub.status.idle": "2025-10-19T13:38:22.737425Z",
     "shell.execute_reply": "2025-10-19T13:38:22.736527Z",
     "shell.execute_reply.started": "2025-10-19T13:35:44.299607Z"
    },
    "trusted": true
   },
   "outputs": [
    {
     "name": "stdout",
     "output_type": "stream",
     "text": [
      "\n",
      "=== pre-Training cnn ===\n"
     ]
    },
    {
     "name": "stderr",
     "output_type": "stream",
     "text": [
      "Train Epoch 1: 100%|██████████| 344/344 [00:13<00:00, 26.22it/s]\n"
     ]
    },
    {
     "name": "stdout",
     "output_type": "stream",
     "text": [
      "Epoch 1: Train Acc=0.4347, Val Acc=0.4577\n"
     ]
    },
    {
     "name": "stderr",
     "output_type": "stream",
     "text": [
      "Train Epoch 2: 100%|██████████| 344/344 [00:13<00:00, 25.40it/s]\n"
     ]
    },
    {
     "name": "stdout",
     "output_type": "stream",
     "text": [
      "Epoch 2: Train Acc=0.5126, Val Acc=0.4836\n"
     ]
    },
    {
     "name": "stderr",
     "output_type": "stream",
     "text": [
      "Train Epoch 3: 100%|██████████| 344/344 [00:13<00:00, 25.52it/s]\n"
     ]
    },
    {
     "name": "stdout",
     "output_type": "stream",
     "text": [
      "Epoch 3: Train Acc=0.6464, Val Acc=0.4805\n"
     ]
    },
    {
     "name": "stderr",
     "output_type": "stream",
     "text": [
      "Train Epoch 4: 100%|██████████| 344/344 [00:13<00:00, 25.18it/s]\n"
     ]
    },
    {
     "name": "stdout",
     "output_type": "stream",
     "text": [
      "Epoch 4: Train Acc=0.8112, Val Acc=0.4665\n"
     ]
    },
    {
     "name": "stderr",
     "output_type": "stream",
     "text": [
      "Train Epoch 5: 100%|██████████| 344/344 [00:13<00:00, 25.57it/s]\n"
     ]
    },
    {
     "name": "stdout",
     "output_type": "stream",
     "text": [
      "Epoch 5: Train Acc=0.9114, Val Acc=0.4563\n"
     ]
    },
    {
     "name": "stderr",
     "output_type": "stream",
     "text": [
      "Train Epoch 6: 100%|██████████| 344/344 [00:13<00:00, 25.68it/s]\n"
     ]
    },
    {
     "name": "stdout",
     "output_type": "stream",
     "text": [
      "Epoch 6: Train Acc=0.9562, Val Acc=0.4568\n"
     ]
    },
    {
     "name": "stderr",
     "output_type": "stream",
     "text": [
      "Train Epoch 7: 100%|██████████| 344/344 [00:13<00:00, 25.91it/s]\n"
     ]
    },
    {
     "name": "stdout",
     "output_type": "stream",
     "text": [
      "Epoch 7: Train Acc=0.9752, Val Acc=0.4501\n"
     ]
    },
    {
     "name": "stderr",
     "output_type": "stream",
     "text": [
      "Train Epoch 8: 100%|██████████| 344/344 [00:13<00:00, 25.82it/s]\n"
     ]
    },
    {
     "name": "stdout",
     "output_type": "stream",
     "text": [
      "Epoch 8: Train Acc=0.9848, Val Acc=0.4564\n"
     ]
    },
    {
     "name": "stderr",
     "output_type": "stream",
     "text": [
      "Train Epoch 9: 100%|██████████| 344/344 [00:13<00:00, 25.65it/s]\n"
     ]
    },
    {
     "name": "stdout",
     "output_type": "stream",
     "text": [
      "Epoch 9: Train Acc=0.9902, Val Acc=0.4607\n"
     ]
    },
    {
     "name": "stderr",
     "output_type": "stream",
     "text": [
      "Train Epoch 10: 100%|██████████| 344/344 [00:13<00:00, 25.57it/s]\n"
     ]
    },
    {
     "name": "stdout",
     "output_type": "stream",
     "text": [
      "Epoch 10: Train Acc=0.9936, Val Acc=0.4580\n",
      "[0.43471590909090907, 0.5125681818181819, 0.6464090909090909, 0.8112386363636364, 0.9113863636363636, 0.9561931818181818, 0.9751931818181818, 0.9848181818181818, 0.9901931818181818, 0.9936477272727273]\n",
      "[0.4577272727272727, 0.48359090909090907, 0.48054545454545455, 0.46645454545454546, 0.4562727272727273, 0.4567727272727273, 0.4500909090909091, 0.45640909090909093, 0.4606818181818182, 0.458]\n"
     ]
    }
   ],
   "source": [
    "print(f\"\\n=== pre-Training cnn ===\")\n",
    "model = CNNModel(processor_x.embeddings).to(device)\n",
    "optimizer = optim.Adam(model.parameters(), lr=1e-3)\n",
    "criterion = nn.CrossEntropyLoss()\n",
    "train_acc, val_acc = train_model(model, train_loader_x, val_loader_x, criterion, optimizer, device, epochs=10)\n",
    "print(train_acc)\n",
    "print(val_acc)"
   ]
  },
  {
   "cell_type": "code",
   "execution_count": 11,
   "metadata": {
    "execution": {
     "iopub.execute_input": "2025-10-19T13:38:40.479964Z",
     "iopub.status.busy": "2025-10-19T13:38:40.479670Z",
     "iopub.status.idle": "2025-10-19T13:39:02.205992Z",
     "shell.execute_reply": "2025-10-19T13:39:02.205139Z",
     "shell.execute_reply.started": "2025-10-19T13:38:40.479942Z"
    },
    "trusted": true
   },
   "outputs": [
    {
     "name": "stdout",
     "output_type": "stream",
     "text": [
      "\n",
      "=== fine-tuning CNN ===\n"
     ]
    },
    {
     "name": "stderr",
     "output_type": "stream",
     "text": [
      "Train Epoch 1: 100%|██████████| 152/152 [00:01<00:00, 76.50it/s]\n"
     ]
    },
    {
     "name": "stdout",
     "output_type": "stream",
     "text": [
      "Epoch 1: Train Acc=0.3552, Val Acc=0.3540\n"
     ]
    },
    {
     "name": "stderr",
     "output_type": "stream",
     "text": [
      "Train Epoch 2: 100%|██████████| 152/152 [00:01<00:00, 77.87it/s]\n"
     ]
    },
    {
     "name": "stdout",
     "output_type": "stream",
     "text": [
      "Epoch 2: Train Acc=0.5950, Val Acc=0.3585\n"
     ]
    },
    {
     "name": "stderr",
     "output_type": "stream",
     "text": [
      "Train Epoch 3: 100%|██████████| 152/152 [00:01<00:00, 77.52it/s]\n"
     ]
    },
    {
     "name": "stdout",
     "output_type": "stream",
     "text": [
      "Epoch 3: Train Acc=0.8034, Val Acc=0.3523\n"
     ]
    },
    {
     "name": "stderr",
     "output_type": "stream",
     "text": [
      "Train Epoch 4: 100%|██████████| 152/152 [00:01<00:00, 79.45it/s]\n"
     ]
    },
    {
     "name": "stdout",
     "output_type": "stream",
     "text": [
      "Epoch 4: Train Acc=0.9240, Val Acc=0.3498\n"
     ]
    },
    {
     "name": "stderr",
     "output_type": "stream",
     "text": [
      "Train Epoch 5: 100%|██████████| 152/152 [00:01<00:00, 79.98it/s]\n"
     ]
    },
    {
     "name": "stdout",
     "output_type": "stream",
     "text": [
      "Epoch 5: Train Acc=0.9704, Val Acc=0.3453\n"
     ]
    },
    {
     "name": "stderr",
     "output_type": "stream",
     "text": [
      "Train Epoch 6: 100%|██████████| 152/152 [00:01<00:00, 80.00it/s]\n"
     ]
    },
    {
     "name": "stdout",
     "output_type": "stream",
     "text": [
      "Epoch 6: Train Acc=0.9882, Val Acc=0.3507\n"
     ]
    },
    {
     "name": "stderr",
     "output_type": "stream",
     "text": [
      "Train Epoch 7: 100%|██████████| 152/152 [00:01<00:00, 79.60it/s]\n"
     ]
    },
    {
     "name": "stdout",
     "output_type": "stream",
     "text": [
      "Epoch 7: Train Acc=0.9945, Val Acc=0.3465\n"
     ]
    },
    {
     "name": "stderr",
     "output_type": "stream",
     "text": [
      "Train Epoch 8: 100%|██████████| 152/152 [00:01<00:00, 76.59it/s]\n"
     ]
    },
    {
     "name": "stdout",
     "output_type": "stream",
     "text": [
      "Epoch 8: Train Acc=0.9968, Val Acc=0.3494\n"
     ]
    },
    {
     "name": "stderr",
     "output_type": "stream",
     "text": [
      "Train Epoch 9: 100%|██████████| 152/152 [00:01<00:00, 79.60it/s]\n"
     ]
    },
    {
     "name": "stdout",
     "output_type": "stream",
     "text": [
      "Epoch 9: Train Acc=0.9978, Val Acc=0.3474\n"
     ]
    },
    {
     "name": "stderr",
     "output_type": "stream",
     "text": [
      "Train Epoch 10: 100%|██████████| 152/152 [00:01<00:00, 79.74it/s]\n"
     ]
    },
    {
     "name": "stdout",
     "output_type": "stream",
     "text": [
      "Epoch 10: Train Acc=0.9981, Val Acc=0.3478\n",
      "[0.3551980198019802, 0.5949876237623762, 0.803424092409241, 0.9239892739273927, 0.9704001650165016, 0.9882425742574258, 0.9945338283828383, 0.996802805280528, 0.9978341584158416, 0.9981435643564357]\n",
      "[0.35396039603960394, 0.3584983498349835, 0.3523102310231023, 0.34983498349834985, 0.34529702970297027, 0.35066006600660066, 0.3465346534653465, 0.3494224422442244, 0.34735973597359737, 0.34777227722772275]\n"
     ]
    },
    {
     "data": {
      "image/png": "[encoded data removed]",
      "text/plain": [
       "<Figure size 640x480 with 1 Axes>"
      ]
     },
     "metadata": {},
     "output_type": "display_data"
    }
   ],
   "source": [
    "print(f\"\\n=== fine-tuning CNN ===\")\n",
    "optimizer = optim.Adam(model.parameters(), lr=1e-3)\n",
    "train_acc, val_acc = train_model(model, train_loader, val_loader, criterion, optimizer, device, epochs=10)\n",
    "print(train_acc)\n",
    "print(val_acc)\n",
    "plot(train_acc, val_acc)"
   ]
  },
  {
   "cell_type": "markdown",
   "metadata": {},
   "source": [
    "Part3: transfer learning"
   ]
  },
  {
   "cell_type": "code",
   "execution_count": 2,
   "metadata": {
    "execution": {
     "iopub.execute_input": "2025-10-18T17:12:19.614728Z",
     "iopub.status.busy": "2025-10-18T17:12:19.614465Z",
     "iopub.status.idle": "2025-10-18T17:12:24.979923Z",
     "shell.execute_reply": "2025-10-18T17:12:24.979131Z",
     "shell.execute_reply.started": "2025-10-18T17:12:19.614709Z"
    },
    "trusted": true
   },
   "outputs": [],
   "source": [
    "import pandas as pd\n",
    "import torch\n",
    "from torch.utils.data import Dataset, DataLoader\n",
    "from transformers import AutoTokenizer, AutoModelForSequenceClassification\n",
    "from torch.optim import AdamW\n",
    "import torch.nn.functional as F\n",
    "from sklearn.model_selection import train_test_split"
   ]
  },
  {
   "cell_type": "code",
   "execution_count": 3,
   "metadata": {
    "execution": {
     "iopub.execute_input": "2025-10-18T17:18:10.147724Z",
     "iopub.status.busy": "2025-10-18T17:18:10.147219Z",
     "iopub.status.idle": "2025-10-18T17:18:20.481908Z",
     "shell.execute_reply": "2025-10-18T17:18:20.481180Z",
     "shell.execute_reply.started": "2025-10-18T17:18:10.147699Z"
    },
    "trusted": true
   },
   "outputs": [
    {
     "name": "stderr",
     "output_type": "stream",
     "text": [
      "2025-10-18 17:18:15.523274: E external/local_xla/xla/stream_executor/cuda/cuda_fft.cc:477] Unable to register cuFFT factory: Attempting to register factory for plugin cuFFT when one has already been registered\n",
      "WARNING: All log messages before absl::InitializeLog() is called are written to STDERR\n",
      "E0000 00:00:1760807895.540253     238 cuda_dnn.cc:8310] Unable to register cuDNN factory: Attempting to register factory for plugin cuDNN when one has already been registered\n",
      "E0000 00:00:1760807895.545329     238 cuda_blas.cc:1418] Unable to register cuBLAS factory: Attempting to register factory for plugin cuBLAS when one has already been registered\n",
      "Some weights of the model checkpoint at joeddav/xlm-roberta-large-xnli were not used when initializing XLMRobertaForSequenceClassification: ['roberta.pooler.dense.bias', 'roberta.pooler.dense.weight']\n",
      "- This IS expected if you are initializing XLMRobertaForSequenceClassification from the checkpoint of a model trained on another task or with another architecture (e.g. initializing a BertForSequenceClassification model from a BertForPreTraining model).\n",
      "- This IS NOT expected if you are initializing XLMRobertaForSequenceClassification from the checkpoint of a model that you expect to be exactly identical (initializing a BertForSequenceClassification model from a BertForSequenceClassification model).\n"
     ]
    },
    {
     "data": {
      "text/plain": [
       "XLMRobertaForSequenceClassification(\n",
       "  (roberta): XLMRobertaModel(\n",
       "    (embeddings): XLMRobertaEmbeddings(\n",
       "      (word_embeddings): Embedding(250002, 1024, padding_idx=1)\n",
       "      (position_embeddings): Embedding(514, 1024, padding_idx=1)\n",
       "      (token_type_embeddings): Embedding(1, 1024)\n",
       "      (LayerNorm): LayerNorm((1024,), eps=1e-05, elementwise_affine=True)\n",
       "      (dropout): Dropout(p=0.1, inplace=False)\n",
       "    )\n",
       "    (encoder): XLMRobertaEncoder(\n",
       "      (layer): ModuleList(\n",
       "        (0-23): 24 x XLMRobertaLayer(\n",
       "          (attention): XLMRobertaAttention(\n",
       "            (self): XLMRobertaSdpaSelfAttention(\n",
       "              (query): Linear(in_features=1024, out_features=1024, bias=True)\n",
       "              (key): Linear(in_features=1024, out_features=1024, bias=True)\n",
       "              (value): Linear(in_features=1024, out_features=1024, bias=True)\n",
       "              (dropout): Dropout(p=0.1, inplace=False)\n",
       "            )\n",
       "            (output): XLMRobertaSelfOutput(\n",
       "              (dense): Linear(in_features=1024, out_features=1024, bias=True)\n",
       "              (LayerNorm): LayerNorm((1024,), eps=1e-05, elementwise_affine=True)\n",
       "              (dropout): Dropout(p=0.1, inplace=False)\n",
       "            )\n",
       "          )\n",
       "          (intermediate): XLMRobertaIntermediate(\n",
       "            (dense): Linear(in_features=1024, out_features=4096, bias=True)\n",
       "            (intermediate_act_fn): GELUActivation()\n",
       "          )\n",
       "          (output): XLMRobertaOutput(\n",
       "            (dense): Linear(in_features=4096, out_features=1024, bias=True)\n",
       "            (LayerNorm): LayerNorm((1024,), eps=1e-05, elementwise_affine=True)\n",
       "            (dropout): Dropout(p=0.1, inplace=False)\n",
       "          )\n",
       "        )\n",
       "      )\n",
       "    )\n",
       "  )\n",
       "  (classifier): XLMRobertaClassificationHead(\n",
       "    (dense): Linear(in_features=1024, out_features=1024, bias=True)\n",
       "    (dropout): Dropout(p=0.1, inplace=False)\n",
       "    (out_proj): Linear(in_features=1024, out_features=3, bias=True)\n",
       "  )\n",
       ")"
      ]
     },
     "execution_count": 3,
     "metadata": {},
     "output_type": "execute_result"
    }
   ],
   "source": [
    "model_name = \"joeddav/xlm-roberta-large-xnli\"\n",
    "tokenizer = AutoTokenizer.from_pretrained(model_name)\n",
    "device = \"cuda\" if torch.cuda.is_available() else \"cpu\"\n",
    "\n",
    "model = AutoModelForSequenceClassification.from_pretrained(model_name, num_labels=3)\n",
    "model.config.hidden_dropout_prob = 0.2\n",
    "model.to(torch.device(device))"
   ]
  },
  {
   "cell_type": "code",
   "execution_count": null,
   "metadata": {
    "execution": {
     "iopub.execute_input": "2025-10-18T17:19:01.177991Z",
     "iopub.status.busy": "2025-10-18T17:19:01.177350Z",
     "iopub.status.idle": "2025-10-18T18:05:28.967585Z",
     "shell.execute_reply": "2025-10-18T18:05:28.966881Z",
     "shell.execute_reply.started": "2025-10-18T17:19:01.177967Z"
    },
    "trusted": true
   },
   "outputs": [
    {
     "name": "stdout",
     "output_type": "stream",
     "text": [
      "Step 10/682 - Avg Loss: 1.8998 - Acc: 0.3750\n",
      "Step 20/682 - Avg Loss: 1.4604 - Acc: 0.4156\n",
      "Step 30/682 - Avg Loss: 1.2789 - Acc: 0.4375\n",
      "Step 40/682 - Avg Loss: 1.1410 - Acc: 0.4813\n",
      "Step 50/682 - Avg Loss: 1.0465 - Acc: 0.5325\n",
      "Step 60/682 - Avg Loss: 1.0106 - Acc: 0.5573\n",
      "Step 70/682 - Avg Loss: 0.9551 - Acc: 0.5848\n",
      "Step 80/682 - Avg Loss: 0.8978 - Acc: 0.6156\n",
      "Step 90/682 - Avg Loss: 0.8406 - Acc: 0.6410\n",
      "Step 100/682 - Avg Loss: 0.7856 - Acc: 0.6687\n",
      "Step 110/682 - Avg Loss: 0.7465 - Acc: 0.6864\n",
      "Step 120/682 - Avg Loss: 0.7136 - Acc: 0.7031\n",
      "Step 130/682 - Avg Loss: 0.6869 - Acc: 0.7163\n",
      "Step 140/682 - Avg Loss: 0.6652 - Acc: 0.7272\n",
      "Step 150/682 - Avg Loss: 0.6498 - Acc: 0.7367\n",
      "Step 160/682 - Avg Loss: 0.6273 - Acc: 0.7469\n",
      "Step 170/682 - Avg Loss: 0.6049 - Acc: 0.7566\n",
      "Step 180/682 - Avg Loss: 0.5901 - Acc: 0.7642\n",
      "Step 190/682 - Avg Loss: 0.5790 - Acc: 0.7691\n",
      "Step 200/682 - Avg Loss: 0.5761 - Acc: 0.7725\n",
      "Step 210/682 - Avg Loss: 0.5650 - Acc: 0.7783\n",
      "Step 220/682 - Avg Loss: 0.5586 - Acc: 0.7827\n",
      "Step 230/682 - Avg Loss: 0.5504 - Acc: 0.7853\n",
      "Step 240/682 - Avg Loss: 0.5475 - Acc: 0.7867\n",
      "Step 250/682 - Avg Loss: 0.5381 - Acc: 0.7907\n",
      "Step 260/682 - Avg Loss: 0.5328 - Acc: 0.7928\n",
      "Step 270/682 - Avg Loss: 0.5293 - Acc: 0.7947\n",
      "Step 280/682 - Avg Loss: 0.5258 - Acc: 0.7962\n",
      "Step 290/682 - Avg Loss: 0.5178 - Acc: 0.7996\n",
      "Step 300/682 - Avg Loss: 0.5145 - Acc: 0.8010\n",
      "Step 310/682 - Avg Loss: 0.5109 - Acc: 0.8026\n",
      "Step 320/682 - Avg Loss: 0.5024 - Acc: 0.8070\n",
      "Step 330/682 - Avg Loss: 0.4963 - Acc: 0.8091\n",
      "Step 340/682 - Avg Loss: 0.4912 - Acc: 0.8110\n",
      "Step 350/682 - Avg Loss: 0.4878 - Acc: 0.8118\n",
      "Step 360/682 - Avg Loss: 0.4826 - Acc: 0.8134\n",
      "Step 370/682 - Avg Loss: 0.4769 - Acc: 0.8160\n",
      "Step 380/682 - Avg Loss: 0.4708 - Acc: 0.8183\n",
      "Step 390/682 - Avg Loss: 0.4662 - Acc: 0.8204\n",
      "Step 400/682 - Avg Loss: 0.4651 - Acc: 0.8216\n",
      "Step 410/682 - Avg Loss: 0.4609 - Acc: 0.8238\n",
      "Step 420/682 - Avg Loss: 0.4596 - Acc: 0.8243\n",
      "Step 430/682 - Avg Loss: 0.4564 - Acc: 0.8260\n",
      "Step 440/682 - Avg Loss: 0.4545 - Acc: 0.8261\n",
      "Step 450/682 - Avg Loss: 0.4525 - Acc: 0.8272\n",
      "Step 460/682 - Avg Loss: 0.4485 - Acc: 0.8291\n",
      "Step 470/682 - Avg Loss: 0.4434 - Acc: 0.8315\n",
      "Step 480/682 - Avg Loss: 0.4406 - Acc: 0.8331\n",
      "Step 490/682 - Avg Loss: 0.4395 - Acc: 0.8338\n",
      "Step 500/682 - Avg Loss: 0.4392 - Acc: 0.8337\n",
      "Step 510/682 - Avg Loss: 0.4375 - Acc: 0.8344\n",
      "Step 520/682 - Avg Loss: 0.4368 - Acc: 0.8345\n",
      "Step 530/682 - Avg Loss: 0.4331 - Acc: 0.8358\n",
      "Step 540/682 - Avg Loss: 0.4303 - Acc: 0.8373\n",
      "Step 550/682 - Avg Loss: 0.4266 - Acc: 0.8386\n",
      "Step 560/682 - Avg Loss: 0.4268 - Acc: 0.8393\n",
      "Step 570/682 - Avg Loss: 0.4257 - Acc: 0.8401\n",
      "Step 580/682 - Avg Loss: 0.4234 - Acc: 0.8407\n",
      "Step 590/682 - Avg Loss: 0.4230 - Acc: 0.8409\n",
      "Step 600/682 - Avg Loss: 0.4227 - Acc: 0.8409\n",
      "Step 610/682 - Avg Loss: 0.4217 - Acc: 0.8416\n",
      "Step 620/682 - Avg Loss: 0.4198 - Acc: 0.8421\n",
      "Step 630/682 - Avg Loss: 0.4177 - Acc: 0.8428\n",
      "Step 640/682 - Avg Loss: 0.4151 - Acc: 0.8433\n",
      "Step 650/682 - Avg Loss: 0.4120 - Acc: 0.8445\n",
      "Step 660/682 - Avg Loss: 0.4112 - Acc: 0.8449\n",
      "Step 670/682 - Avg Loss: 0.4115 - Acc: 0.8451\n",
      "Step 680/682 - Avg Loss: 0.4116 - Acc: 0.8449\n",
      "Step 682/682 - Avg Loss: 0.4112 - Acc: 0.8451\n",
      "Epoch 1: Train Loss=0.4112,Train acc= 0.8451,Val Acc=0.8853\n",
      "Step 10/682 - Avg Loss: 0.1980 - Acc: 0.9437\n",
      "Step 20/682 - Avg Loss: 0.1552 - Acc: 0.9563\n",
      "Step 30/682 - Avg Loss: 0.1736 - Acc: 0.9500\n",
      "Step 40/682 - Avg Loss: 0.1895 - Acc: 0.9453\n",
      "Step 50/682 - Avg Loss: 0.1833 - Acc: 0.9463\n",
      "Step 60/682 - Avg Loss: 0.1881 - Acc: 0.9437\n",
      "Step 70/682 - Avg Loss: 0.1892 - Acc: 0.9411\n",
      "Step 80/682 - Avg Loss: 0.1795 - Acc: 0.9453\n",
      "Step 90/682 - Avg Loss: 0.1777 - Acc: 0.9465\n",
      "Step 100/682 - Avg Loss: 0.1843 - Acc: 0.9456\n",
      "Step 110/682 - Avg Loss: 0.1927 - Acc: 0.9426\n",
      "Step 120/682 - Avg Loss: 0.1877 - Acc: 0.9437\n",
      "Step 130/682 - Avg Loss: 0.1849 - Acc: 0.9437\n",
      "Step 140/682 - Avg Loss: 0.1882 - Acc: 0.9433\n",
      "Step 150/682 - Avg Loss: 0.1849 - Acc: 0.9429\n",
      "Step 160/682 - Avg Loss: 0.1928 - Acc: 0.9410\n",
      "Step 170/682 - Avg Loss: 0.1944 - Acc: 0.9401\n",
      "Step 180/682 - Avg Loss: 0.2001 - Acc: 0.9382\n",
      "Step 190/682 - Avg Loss: 0.2021 - Acc: 0.9385\n",
      "Step 200/682 - Avg Loss: 0.2069 - Acc: 0.9363\n",
      "Step 210/682 - Avg Loss: 0.2105 - Acc: 0.9336\n",
      "Step 220/682 - Avg Loss: 0.2151 - Acc: 0.9307\n",
      "Step 230/682 - Avg Loss: 0.2139 - Acc: 0.9304\n",
      "Step 240/682 - Avg Loss: 0.2152 - Acc: 0.9297\n",
      "Step 250/682 - Avg Loss: 0.2148 - Acc: 0.9300\n",
      "Step 260/682 - Avg Loss: 0.2162 - Acc: 0.9291\n",
      "Step 270/682 - Avg Loss: 0.2135 - Acc: 0.9299\n",
      "Step 280/682 - Avg Loss: 0.2190 - Acc: 0.9286\n",
      "Step 290/682 - Avg Loss: 0.2242 - Acc: 0.9269\n",
      "Step 300/682 - Avg Loss: 0.2256 - Acc: 0.9269\n",
      "Step 310/682 - Avg Loss: 0.2269 - Acc: 0.9264\n",
      "Step 320/682 - Avg Loss: 0.2251 - Acc: 0.9270\n",
      "Step 330/682 - Avg Loss: 0.2244 - Acc: 0.9271\n",
      "Step 340/682 - Avg Loss: 0.2245 - Acc: 0.9267\n",
      "Step 350/682 - Avg Loss: 0.2244 - Acc: 0.9266\n",
      "Step 360/682 - Avg Loss: 0.2243 - Acc: 0.9264\n",
      "Step 370/682 - Avg Loss: 0.2242 - Acc: 0.9258\n",
      "Step 380/682 - Avg Loss: 0.2249 - Acc: 0.9260\n",
      "Step 390/682 - Avg Loss: 0.2222 - Acc: 0.9268\n",
      "Step 400/682 - Avg Loss: 0.2223 - Acc: 0.9269\n",
      "Step 410/682 - Avg Loss: 0.2210 - Acc: 0.9268\n",
      "Step 420/682 - Avg Loss: 0.2225 - Acc: 0.9266\n",
      "Step 430/682 - Avg Loss: 0.2219 - Acc: 0.9267\n",
      "Step 440/682 - Avg Loss: 0.2211 - Acc: 0.9271\n",
      "Step 450/682 - Avg Loss: 0.2194 - Acc: 0.9275\n",
      "Step 460/682 - Avg Loss: 0.2191 - Acc: 0.9279\n",
      "Step 470/682 - Avg Loss: 0.2189 - Acc: 0.9277\n",
      "Step 480/682 - Avg Loss: 0.2187 - Acc: 0.9273\n",
      "Step 490/682 - Avg Loss: 0.2206 - Acc: 0.9270\n",
      "Step 500/682 - Avg Loss: 0.2219 - Acc: 0.9266\n",
      "Step 510/682 - Avg Loss: 0.2218 - Acc: 0.9265\n",
      "Step 520/682 - Avg Loss: 0.2214 - Acc: 0.9263\n",
      "Step 530/682 - Avg Loss: 0.2215 - Acc: 0.9261\n",
      "Step 540/682 - Avg Loss: 0.2229 - Acc: 0.9255\n",
      "Step 550/682 - Avg Loss: 0.2247 - Acc: 0.9248\n",
      "Step 560/682 - Avg Loss: 0.2273 - Acc: 0.9243\n",
      "Step 570/682 - Avg Loss: 0.2289 - Acc: 0.9235\n",
      "Step 580/682 - Avg Loss: 0.2298 - Acc: 0.9230\n",
      "Step 590/682 - Avg Loss: 0.2307 - Acc: 0.9225\n",
      "Step 600/682 - Avg Loss: 0.2293 - Acc: 0.9228\n",
      "Step 610/682 - Avg Loss: 0.2307 - Acc: 0.9220\n",
      "Step 620/682 - Avg Loss: 0.2296 - Acc: 0.9221\n",
      "Step 630/682 - Avg Loss: 0.2295 - Acc: 0.9220\n",
      "Step 640/682 - Avg Loss: 0.2296 - Acc: 0.9223\n",
      "Step 650/682 - Avg Loss: 0.2281 - Acc: 0.9227\n",
      "Step 660/682 - Avg Loss: 0.2290 - Acc: 0.9223\n",
      "Step 670/682 - Avg Loss: 0.2287 - Acc: 0.9227\n",
      "Step 680/682 - Avg Loss: 0.2279 - Acc: 0.9231\n",
      "Step 682/682 - Avg Loss: 0.2286 - Acc: 0.9229\n",
      "Epoch 2: Train Loss=0.2286,Train acc= 0.9229,Val Acc=0.8828\n",
      "Step 10/682 - Avg Loss: 0.1165 - Acc: 0.9750\n",
      "Step 20/682 - Avg Loss: 0.1058 - Acc: 0.9750\n",
      "Step 30/682 - Avg Loss: 0.0971 - Acc: 0.9750\n",
      "Step 40/682 - Avg Loss: 0.1110 - Acc: 0.9672\n",
      "Step 50/682 - Avg Loss: 0.1247 - Acc: 0.9650\n",
      "Step 60/682 - Avg Loss: 0.1221 - Acc: 0.9635\n",
      "Step 70/682 - Avg Loss: 0.1256 - Acc: 0.9616\n",
      "Step 80/682 - Avg Loss: 0.1275 - Acc: 0.9609\n",
      "Step 90/682 - Avg Loss: 0.1317 - Acc: 0.9597\n",
      "Step 100/682 - Avg Loss: 0.1375 - Acc: 0.9575\n",
      "Step 110/682 - Avg Loss: 0.1390 - Acc: 0.9568\n",
      "Step 120/682 - Avg Loss: 0.1381 - Acc: 0.9557\n",
      "Step 130/682 - Avg Loss: 0.1355 - Acc: 0.9567\n",
      "Step 140/682 - Avg Loss: 0.1405 - Acc: 0.9554\n",
      "Step 150/682 - Avg Loss: 0.1367 - Acc: 0.9571\n",
      "Step 160/682 - Avg Loss: 0.1316 - Acc: 0.9582\n",
      "Step 170/682 - Avg Loss: 0.1289 - Acc: 0.9592\n",
      "Step 180/682 - Avg Loss: 0.1299 - Acc: 0.9587\n",
      "Step 190/682 - Avg Loss: 0.1281 - Acc: 0.9586\n",
      "Step 200/682 - Avg Loss: 0.1260 - Acc: 0.9594\n",
      "Step 210/682 - Avg Loss: 0.1224 - Acc: 0.9604\n",
      "Step 220/682 - Avg Loss: 0.1219 - Acc: 0.9605\n",
      "Step 230/682 - Avg Loss: 0.1225 - Acc: 0.9601\n",
      "Step 240/682 - Avg Loss: 0.1238 - Acc: 0.9596\n",
      "Step 250/682 - Avg Loss: 0.1268 - Acc: 0.9587\n",
      "Step 260/682 - Avg Loss: 0.1263 - Acc: 0.9594\n",
      "Step 270/682 - Avg Loss: 0.1319 - Acc: 0.9579\n",
      "Step 280/682 - Avg Loss: 0.1327 - Acc: 0.9574\n",
      "Step 290/682 - Avg Loss: 0.1329 - Acc: 0.9569\n",
      "Step 300/682 - Avg Loss: 0.1314 - Acc: 0.9573\n",
      "Step 310/682 - Avg Loss: 0.1323 - Acc: 0.9569\n",
      "Step 320/682 - Avg Loss: 0.1339 - Acc: 0.9561\n",
      "Step 330/682 - Avg Loss: 0.1332 - Acc: 0.9561\n",
      "Step 340/682 - Avg Loss: 0.1334 - Acc: 0.9555\n",
      "Step 350/682 - Avg Loss: 0.1347 - Acc: 0.9557\n",
      "Step 360/682 - Avg Loss: 0.1346 - Acc: 0.9557\n",
      "Step 370/682 - Avg Loss: 0.1367 - Acc: 0.9549\n",
      "Step 380/682 - Avg Loss: 0.1381 - Acc: 0.9538\n",
      "Step 390/682 - Avg Loss: 0.1381 - Acc: 0.9535\n",
      "Step 400/682 - Avg Loss: 0.1399 - Acc: 0.9533\n",
      "Step 410/682 - Avg Loss: 0.1406 - Acc: 0.9532\n",
      "Step 420/682 - Avg Loss: 0.1410 - Acc: 0.9533\n",
      "Step 430/682 - Avg Loss: 0.1407 - Acc: 0.9533\n",
      "Step 440/682 - Avg Loss: 0.1411 - Acc: 0.9534\n",
      "Step 450/682 - Avg Loss: 0.1404 - Acc: 0.9536\n",
      "Step 460/682 - Avg Loss: 0.1397 - Acc: 0.9539\n",
      "Step 470/682 - Avg Loss: 0.1407 - Acc: 0.9536\n",
      "Step 480/682 - Avg Loss: 0.1394 - Acc: 0.9540\n",
      "Step 490/682 - Avg Loss: 0.1392 - Acc: 0.9541\n",
      "Step 500/682 - Avg Loss: 0.1390 - Acc: 0.9541\n",
      "Step 510/682 - Avg Loss: 0.1391 - Acc: 0.9540\n",
      "Step 520/682 - Avg Loss: 0.1402 - Acc: 0.9540\n",
      "Step 530/682 - Avg Loss: 0.1413 - Acc: 0.9535\n",
      "Step 540/682 - Avg Loss: 0.1424 - Acc: 0.9532\n",
      "Step 550/682 - Avg Loss: 0.1424 - Acc: 0.9533\n",
      "Step 560/682 - Avg Loss: 0.1430 - Acc: 0.9533\n",
      "Step 570/682 - Avg Loss: 0.1434 - Acc: 0.9530\n",
      "Step 580/682 - Avg Loss: 0.1430 - Acc: 0.9531\n",
      "Step 590/682 - Avg Loss: 0.1433 - Acc: 0.9529\n",
      "Step 600/682 - Avg Loss: 0.1447 - Acc: 0.9523\n",
      "Step 610/682 - Avg Loss: 0.1444 - Acc: 0.9524\n",
      "Step 620/682 - Avg Loss: 0.1446 - Acc: 0.9522\n",
      "Step 630/682 - Avg Loss: 0.1444 - Acc: 0.9522\n",
      "Step 640/682 - Avg Loss: 0.1447 - Acc: 0.9521\n",
      "Step 650/682 - Avg Loss: 0.1455 - Acc: 0.9520\n",
      "Step 660/682 - Avg Loss: 0.1454 - Acc: 0.9519\n",
      "Step 670/682 - Avg Loss: 0.1443 - Acc: 0.9523\n",
      "Step 680/682 - Avg Loss: 0.1443 - Acc: 0.9525\n",
      "Step 682/682 - Avg Loss: 0.1453 - Acc: 0.9523\n",
      "Epoch 3: Train Loss=0.1453,Train acc= 0.9523,Val Acc=0.8746\n"
     ]
    }
   ],
   "source": [
    "\n",
    "\n",
    "class NLIDataset(Dataset):\n",
    "    def __init__(self, dataframe, tokenizer, max_length=128):\n",
    "        self.dataframe = dataframe\n",
    "        self.tokenizer = tokenizer\n",
    "        self.max_length = max_length\n",
    "\n",
    "    def __len__(self):\n",
    "        return len(self.dataframe)\n",
    "\n",
    "    def __getitem__(self, idx):\n",
    "        row = self.dataframe.iloc[idx]\n",
    "        encoded = self.tokenizer(\n",
    "            row['premise'],\n",
    "            row['hypothesis'],\n",
    "            truncation=True,\n",
    "            padding='max_length',\n",
    "            max_length=self.max_length,\n",
    "            return_tensors='pt'\n",
    "        )\n",
    "        item = {key: val.squeeze(0) for key, val in encoded.items()}\n",
    "        if 'label' in row:\n",
    "            item['labels'] = torch.tensor(row['label'])\n",
    "        return item\n",
    "\n",
    "\n",
    "\n",
    "device = torch.device('cuda' if torch.cuda.is_available() else 'cpu')\n",
    "model.to(device)\n",
    "\n",
    "\n",
    "train_df = pd.read_csv('/kaggle/input/contradictory-my-dear-watson/train.csv')\n",
    "test_df = pd.read_csv('/kaggle/input/contradictory-my-dear-watson/test.csv')\n",
    "\n",
    "train_data, val_data = train_test_split(train_df, test_size=0.1, random_state=42)\n",
    "\n",
    "train_dataset = NLIDataset(train_data, tokenizer)\n",
    "val_dataset = NLIDataset(val_data, tokenizer)\n",
    "train_loader = DataLoader(train_dataset, batch_size=16, shuffle=True)\n",
    "val_loader = DataLoader(val_dataset, batch_size=16, shuffle=False)\n",
    "\n",
    "\n",
    "optimizer = AdamW(model.parameters(), lr=2e-5)\n",
    "\n",
    "def train_one_epoch():\n",
    "  \n",
    "    model.train()\n",
    "    total_loss = 0\n",
    "    correct = 0\n",
    "    total = 0\n",
    "\n",
    "    for step, batch in enumerate(train_loader, 1):\n",
    "        optimizer.zero_grad()\n",
    "        input_ids = batch['input_ids'].to(device)\n",
    "        attention_mask = batch['attention_mask'].to(device)\n",
    "        labels = batch['labels'].to(device)\n",
    "\n",
    "        outputs = model(input_ids=input_ids, attention_mask=attention_mask, labels=labels)\n",
    "        loss = outputs.loss\n",
    "        loss.backward()\n",
    "        optimizer.step()\n",
    "\n",
    "        total_loss += loss.item()\n",
    "\n",
    "        preds = torch.argmax(outputs.logits, dim=1)\n",
    "        correct += (preds == labels).sum().item()\n",
    "        total += labels.size(0)\n",
    "\n",
    "\n",
    "        # print every 10 batches\n",
    "        if step % 10 == 0 or step == len(train_loader):\n",
    "            avg_loss = total_loss / step\n",
    "            acc = correct / total\n",
    "            print(f\"Step {step}/{len(train_loader)} - Avg Loss: {avg_loss:.4f} - Acc: {acc:.4f}\")\n",
    "\n",
    "    avg_loss = total_loss / len(train_loader)\n",
    "    acc = correct / total\n",
    "    return avg_loss, acc\n",
    "\n",
    "def evaluate(loader):\n",
    "    model.eval()\n",
    "    correct = 0\n",
    "    total = 0\n",
    "    with torch.no_grad():\n",
    "        for batch in loader:\n",
    "            input_ids = batch['input_ids'].to(device)\n",
    "            attention_mask = batch['attention_mask'].to(device)\n",
    "            labels = batch['labels'].to(device)\n",
    "            outputs = model(input_ids=input_ids, attention_mask=attention_mask)\n",
    "            preds = torch.argmax(outputs.logits, dim=1)\n",
    "            correct += (preds == labels).sum().item()\n",
    "            total += labels.size(0)\n",
    "    return correct / total\n",
    "\n",
    "EPOCHS = 3\n",
    "for epoch in range(EPOCHS):\n",
    "    train_loss, train_acc = train_one_epoch()\n",
    "    val_acc = evaluate(val_loader)\n",
    "    print(f\"Epoch {epoch+1}: Train Loss={train_loss:.4f},Train acc= {train_acc:.4f},Val Acc={val_acc:.4f}\")\n",
    "\n"
   ]
  },
  {
   "cell_type": "code",
   "execution_count": 6,
   "metadata": {
    "execution": {
     "iopub.execute_input": "2025-10-18T18:06:23.598908Z",
     "iopub.status.busy": "2025-10-18T18:06:23.598367Z",
     "iopub.status.idle": "2025-10-18T18:06:28.638331Z",
     "shell.execute_reply": "2025-10-18T18:06:28.637608Z",
     "shell.execute_reply.started": "2025-10-18T18:06:23.598882Z"
    },
    "trusted": true
   },
   "outputs": [
    {
     "data": {
      "text/plain": [
       "('/kaggle/working/xlmr/tokenizer_config.json',\n",
       " '/kaggle/working/xlmr/special_tokens_map.json',\n",
       " '/kaggle/working/xlmr/sentencepiece.bpe.model',\n",
       " '/kaggle/working/xlmr/added_tokens.json',\n",
       " '/kaggle/working/xlmr/tokenizer.json')"
      ]
     },
     "execution_count": 6,
     "metadata": {},
     "output_type": "execute_result"
    }
   ],
   "source": [
    "model.save_pretrained(\"/kaggle/working/xlmr\")\n",
    "tokenizer.save_pretrained(\"/kaggle/working/xlmr\")"
   ]
  }
 ],
 "metadata": {
  "kaggle": {
   "accelerator": "nvidiaTeslaT4",
   "dataSources": [
    {
     "databundleVersionId": 1408234,
     "sourceId": 21733,
     "sourceType": "competition"
    }
   ],
   "dockerImageVersionId": 31154,
   "isGpuEnabled": true,
   "isInternetEnabled": true,
   "language": "python",
   "sourceType": "notebook"
  },
  "kernelspec": {
   "display_name": "Python 3",
   "language": "python",
   "name": "python3"
  },
  "language_info": {
   "codemirror_mode": {
    "name": "ipython",
    "version": 3
   },
   "file_extension": ".py",
   "mimetype": "text/x-python",
   "name": "python",
   "nbconvert_exporter": "python",
   "pygments_lexer": "ipython3",
   "version": "3.11.13"
  }
 },
 "nbformat": 4,
 "nbformat_minor": 4
}
